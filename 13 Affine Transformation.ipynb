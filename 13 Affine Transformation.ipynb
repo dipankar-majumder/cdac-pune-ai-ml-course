{
 "cells": [
  {
   "cell_type": "markdown",
   "metadata": {},
   "source": [
    "##### Affine Transformation"
   ]
  },
  {
   "cell_type": "code",
   "execution_count": 1,
   "metadata": {},
   "outputs": [],
   "source": [
    "import numpy as np\n",
    "import cv2"
   ]
  },
  {
   "cell_type": "code",
   "execution_count": 2,
   "metadata": {},
   "outputs": [],
   "source": [
    "img = cv2.imread('images/sachin.jpg')"
   ]
  },
  {
   "cell_type": "code",
   "execution_count": 7,
   "metadata": {},
   "outputs": [],
   "source": [
    "tx = 50 # translation-x\n",
    "ty = 100 # translation-y\n",
    "angle = 45 # rotation\n",
    "scale = 0.8 # scaling factor\n",
    "shear_x = 0.25 # tilt on x axis\n",
    "shear_y = 0.3 # tilt on y axis\n",
    "\n",
    "# define the affine transformation matrix\n",
    "M = np.float32([[scale * np.cos(np.radians(angle)), shear_x,                            tx],\n",
    "                [shear_y,                           scale * np.sin(np.radians(angle)),  ty]])"
   ]
  },
  {
   "cell_type": "code",
   "execution_count": 8,
   "metadata": {},
   "outputs": [],
   "source": [
    "img_affine = cv2.warpAffine(img, M, (img.shape[1], img.shape[0]))"
   ]
  },
  {
   "cell_type": "code",
   "execution_count": 10,
   "metadata": {},
   "outputs": [],
   "source": [
    "cv2.imshow('Final Image', img_affine)\n",
    "cv2.waitKey(0)\n",
    "cv2.destroyAllWindows()"
   ]
  },
  {
   "cell_type": "code",
   "execution_count": 12,
   "metadata": {},
   "outputs": [
    {
     "name": "stdout",
     "output_type": "stream",
     "text": [
      "[[4 5 6]\n",
      " [1 2 3]]\n",
      "[[2 8 9]\n",
      " [0 5 7]]\n"
     ]
    }
   ],
   "source": [
    "M1 = np.array([[4, 5, 6],\n",
    "               [1, 2, 3]])\n",
    "M2 = np.array([[2, 8, 9],\n",
    "               [0, 5, 7]])\n",
    "print(M1)\n",
    "print(M2)"
   ]
  },
  {
   "cell_type": "code",
   "execution_count": 23,
   "metadata": {},
   "outputs": [
    {
     "name": "stdout",
     "output_type": "stream",
     "text": [
      "[[4 5 6]\n",
      " [1 2 3]\n",
      " [2 8 9]\n",
      " [0 5 7]]\n",
      "[[4 5 6 2 8 9]\n",
      " [1 2 3 0 5 7]]\n",
      "[[4 5 6 2 8 9]\n",
      " [1 2 3 0 5 7]]\n",
      "[[4 5 6]\n",
      " [1 2 3]\n",
      " [2 8 9]\n",
      " [0 5 7]]\n"
     ]
    }
   ],
   "source": [
    "print(np.row_stack([M1, M2]))\n",
    "print(np.column_stack([M1, M2]))\n",
    "print(np.hstack([M1, M2]))\n",
    "print(np.vstack([M1, M2]))"
   ]
  },
  {
   "cell_type": "code",
   "execution_count": 24,
   "metadata": {},
   "outputs": [],
   "source": [
    "# Original Image\n",
    "img1 = cv2.resize(img, None, fx=0.5, fy=0.5)\n",
    "# Affine Image\n",
    "img2 = cv2.resize(img_affine, None, fx=0.5, fy=0.5)\n",
    "# Final Image\n",
    "final_image = np.hstack([img1, img2])"
   ]
  },
  {
   "cell_type": "code",
   "execution_count": 22,
   "metadata": {},
   "outputs": [],
   "source": [
    "cv2.imshow('Final Image', final_image)\n",
    "cv2.waitKey(0)\n",
    "cv2.destroyAllWindows()"
   ]
  },
  {
   "cell_type": "code",
   "execution_count": 29,
   "metadata": {},
   "outputs": [
    {
     "data": {
      "text/plain": [
       "array([[102,  67],\n",
       "       [ 45,  31]])"
      ]
     },
     "execution_count": 29,
     "metadata": {},
     "output_type": "execute_result"
    }
   ],
   "source": [
    "M1 @ M2.transpose()"
   ]
  },
  {
   "cell_type": "code",
   "execution_count": null,
   "metadata": {},
   "outputs": [],
   "source": []
  },
  {
   "cell_type": "code",
   "execution_count": null,
   "metadata": {},
   "outputs": [],
   "source": []
  }
 ],
 "metadata": {
  "kernelspec": {
   "display_name": "base",
   "language": "python",
   "name": "python3"
  },
  "language_info": {
   "codemirror_mode": {
    "name": "ipython",
    "version": 3
   },
   "file_extension": ".py",
   "mimetype": "text/x-python",
   "name": "python",
   "nbconvert_exporter": "python",
   "pygments_lexer": "ipython3",
   "version": "3.12.7"
  }
 },
 "nbformat": 4,
 "nbformat_minor": 2
}
