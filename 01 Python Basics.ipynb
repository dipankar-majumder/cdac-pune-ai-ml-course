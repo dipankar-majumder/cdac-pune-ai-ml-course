{
 "cells": [
  {
   "cell_type": "markdown",
   "id": "310f8458-9b3b-4664-adf7-a71815dae358",
   "metadata": {},
   "source": [
    "01 Python Basics"
   ]
  },
  {
   "cell_type": "code",
   "execution_count": 1,
   "id": "0bfde338-224d-4d2f-a101-37a6e9fb94c7",
   "metadata": {},
   "outputs": [
    {
     "name": "stdout",
     "output_type": "stream",
     "text": [
      "Hello, Python!\n"
     ]
    }
   ],
   "source": [
    "print(\"Hello, Python!\")"
   ]
  },
  {
   "cell_type": "code",
   "execution_count": 2,
   "id": "00a2a1f1-4508-4ca7-9ed5-1b36d176db51",
   "metadata": {},
   "outputs": [
    {
     "name": "stdout",
     "output_type": "stream",
     "text": [
      "32 Tushar\n"
     ]
    },
    {
     "data": {
      "text/plain": [
       "(int, str)"
      ]
     },
     "execution_count": 2,
     "metadata": {},
     "output_type": "execute_result"
    }
   ],
   "source": [
    "num = 32\n",
    "name = \"Tushar\"\n",
    "print(num, name)\n",
    "type(num), type(name)"
   ]
  },
  {
   "cell_type": "code",
   "execution_count": 3,
   "id": "44ad0340-003e-485f-a196-b4152acd11e9",
   "metadata": {},
   "outputs": [
    {
     "name": "stdout",
     "output_type": "stream",
     "text": [
      "<class 'int'>\n",
      "<class 'str'>\n"
     ]
    }
   ],
   "source": [
    "print(type(num))\n",
    "print(type(name))"
   ]
  },
  {
   "cell_type": "code",
   "execution_count": 4,
   "id": "feaede73-2556-4f3b-8b05-7ba021da5efd",
   "metadata": {},
   "outputs": [
    {
     "data": {
      "text/plain": [
       "32"
      ]
     },
     "execution_count": 4,
     "metadata": {},
     "output_type": "execute_result"
    }
   ],
   "source": [
    "num"
   ]
  },
  {
   "cell_type": "code",
   "execution_count": 5,
   "id": "41e7297a-c7c7-481e-901f-670f9874849c",
   "metadata": {},
   "outputs": [
    {
     "name": "stdout",
     "output_type": "stream",
     "text": [
      "Addition is:  100\n"
     ]
    }
   ],
   "source": [
    "# Addition of two numbers\n",
    "num1 = 47\n",
    "num2 = 53\n",
    "add = num1 + num2\n",
    "print(\"Addition is: \", add)"
   ]
  },
  {
   "cell_type": "code",
   "execution_count": 6,
   "id": "fe79e055-a76d-4395-a592-42f956f86d02",
   "metadata": {},
   "outputs": [
    {
     "name": "stdout",
     "output_type": "stream",
     "text": [
      "Addition is: 100\n"
     ]
    }
   ],
   "source": [
    "# Addition of two numbers\n",
    "num1 = 47\n",
    "num2 = 53\n",
    "add = num1 + num2\n",
    "print(\"Addition is: %d\" % add)"
   ]
  },
  {
   "cell_type": "code",
   "execution_count": 7,
   "id": "f0e5c02f-c27a-4d14-87d0-5982ecf42885",
   "metadata": {},
   "outputs": [
    {
     "data": {
      "text/plain": [
       "float"
      ]
     },
     "execution_count": 7,
     "metadata": {},
     "output_type": "execute_result"
    }
   ],
   "source": [
    "num = 56.74\n",
    "type(num)"
   ]
  },
  {
   "cell_type": "code",
   "execution_count": 8,
   "id": "5425a723-72bb-4776-9c3e-75c11bdb73f7",
   "metadata": {},
   "outputs": [
    {
     "name": "stdout",
     "output_type": "stream",
     "text": [
      "Addition is:  Dipankar Majumder\n"
     ]
    }
   ],
   "source": [
    "# Addition of two strings\n",
    "name1 = input('Enter first name: ')\n",
    "name2 = input('Enter second name: ')\n",
    "add = name1 + \" \" + name2\n",
    "print(\"Addition is: \", add)"
   ]
  },
  {
   "cell_type": "code",
   "execution_count": 9,
   "id": "6f5e28c0-8de7-4b07-969f-24ef7b0c68d0",
   "metadata": {},
   "outputs": [
    {
     "name": "stdout",
     "output_type": "stream",
     "text": [
      "Addition is:  32\n"
     ]
    }
   ],
   "source": [
    "# Addition of two numbers with custom input\n",
    "name1 = int(input('Enter first name: '))\n",
    "name2 = int(input('Enter second name: '))\n",
    "add = name1 + name2\n",
    "print(\"Addition is: \", add)"
   ]
  },
  {
   "cell_type": "code",
   "execution_count": 10,
   "id": "3284c515-6dc2-4299-b954-650a5710b1de",
   "metadata": {},
   "outputs": [
    {
     "name": "stdout",
     "output_type": "stream",
     "text": [
      "+ve number\n"
     ]
    }
   ],
   "source": [
    "num = 10\n",
    "if num >= 0:\n",
    "    print('+ve number')\n",
    "else:\n",
    "    print('-ve number')"
   ]
  },
  {
   "cell_type": "markdown",
   "id": "722f7884-3ef9-4228-b31f-2ce65059f607",
   "metadata": {},
   "source": [
    "Match Case"
   ]
  },
  {
   "cell_type": "code",
   "execution_count": 11,
   "id": "f5d8f554-e550-4f4e-a647-6fc9fffe66ba",
   "metadata": {},
   "outputs": [
    {
     "name": "stdout",
     "output_type": "stream",
     "text": [
      "+ve number\n"
     ]
    }
   ],
   "source": [
    "num = 10\n",
    "match num:\n",
    "    case num if num > 0:\n",
    "        print('+ve number')\n",
    "    case num if num < 0:\n",
    "        print('-ve number')\n",
    "    case _:\n",
    "        print('Zero')"
   ]
  },
  {
   "cell_type": "markdown",
   "id": "468db3fe",
   "metadata": {},
   "source": [
    "##### Loop"
   ]
  },
  {
   "cell_type": "code",
   "execution_count": 12,
   "id": "cec2462d-1a8f-4fd7-9c34-4b3f889b7b7b",
   "metadata": {},
   "outputs": [
    {
     "name": "stdout",
     "output_type": "stream",
     "text": [
      "Tushar\n",
      "Tushar\n",
      "Tushar\n",
      "Tushar\n",
      "Tushar\n",
      "Tushar\n",
      "Tushar\n",
      "Tushar\n",
      "Tushar\n",
      "Tushar\n"
     ]
    }
   ],
   "source": [
    "count = 0\n",
    "while count < 10:\n",
    "    print('Tushar')\n",
    "    count += 1"
   ]
  },
  {
   "cell_type": "code",
   "execution_count": 13,
   "id": "b161f95c",
   "metadata": {},
   "outputs": [
    {
     "name": "stdout",
     "output_type": "stream",
     "text": [
      "Tushar1\n",
      "Tushar2\n",
      "Tushar3\n",
      "Tushar4\n",
      "Tushar5\n",
      "Tushar6\n",
      "Tushar7\n",
      "Tushar8\n",
      "Tushar9\n"
     ]
    }
   ],
   "source": [
    "count = 0\n",
    "while (count := count + 1) < 10:\n",
    "    print(f'Tushar{count}')"
   ]
  },
  {
   "cell_type": "code",
   "execution_count": 14,
   "id": "d3f9c021",
   "metadata": {},
   "outputs": [
    {
     "name": "stdout",
     "output_type": "stream",
     "text": [
      "2025\n",
      "484\n",
      "196\n",
      "1225\n",
      "676\n",
      "1681\n",
      "625\n"
     ]
    }
   ],
   "source": [
    "for num in 45, 22, 14, 35, 26, 41,25:\n",
    "    print(num ** 2)"
   ]
  },
  {
   "cell_type": "markdown",
   "id": "a652306d",
   "metadata": {},
   "source": [
    "Lambda Function"
   ]
  },
  {
   "cell_type": "code",
   "execution_count": 15,
   "id": "8ee81c69",
   "metadata": {},
   "outputs": [
    {
     "name": "stdout",
     "output_type": "stream",
     "text": [
      "[2025, 484, 196, 1225, 676, 1681, 625]\n"
     ]
    }
   ],
   "source": [
    "print(list(\n",
    "    map(\n",
    "        lambda x: x ** 2, \n",
    "        [45, 22, 14, 35, 26, 41,25]\n",
    "        )))"
   ]
  },
  {
   "cell_type": "markdown",
   "id": "6ef14dad",
   "metadata": {},
   "source": [
    "##### Function"
   ]
  },
  {
   "cell_type": "code",
   "execution_count": 16,
   "id": "e77c9958",
   "metadata": {},
   "outputs": [
    {
     "name": "stdout",
     "output_type": "stream",
     "text": [
      "529\n"
     ]
    }
   ],
   "source": [
    "def square(num):\n",
    "    return num ** 2\n",
    "print(square(23))"
   ]
  },
  {
   "cell_type": "code",
   "execution_count": 17,
   "id": "21e516f0",
   "metadata": {},
   "outputs": [
    {
     "name": "stdout",
     "output_type": "stream",
     "text": [
      "(9, 27)\n"
     ]
    }
   ],
   "source": [
    "def squareCube(num):\n",
    "    val1 = num ** 2\n",
    "    val2 = num ** 3\n",
    "    return val1, val2\n",
    "print(squareCube(3))"
   ]
  },
  {
   "cell_type": "markdown",
   "id": "1f2e1836",
   "metadata": {},
   "source": [
    "##### List"
   ]
  },
  {
   "cell_type": "code",
   "execution_count": 18,
   "id": "8f23f098",
   "metadata": {},
   "outputs": [
    {
     "data": {
      "text/plain": [
       "list"
      ]
     },
     "execution_count": 18,
     "metadata": {},
     "output_type": "execute_result"
    }
   ],
   "source": [
    "x = [1, 2, 3, 4]\n",
    "type(x)"
   ]
  },
  {
   "cell_type": "code",
   "execution_count": 19,
   "id": "96ca2744",
   "metadata": {},
   "outputs": [
    {
     "data": {
      "text/plain": [
       "4"
      ]
     },
     "execution_count": 19,
     "metadata": {},
     "output_type": "execute_result"
    }
   ],
   "source": [
    "x[3]"
   ]
  },
  {
   "cell_type": "code",
   "execution_count": 20,
   "id": "206c6331",
   "metadata": {},
   "outputs": [
    {
     "data": {
      "text/plain": [
       "[1, 2, 3, 8]"
      ]
     },
     "execution_count": 20,
     "metadata": {},
     "output_type": "execute_result"
    }
   ],
   "source": [
    "x[3] = 8\n",
    "x"
   ]
  },
  {
   "cell_type": "markdown",
   "id": "4ab87052",
   "metadata": {},
   "source": [
    "Reverse List"
   ]
  },
  {
   "cell_type": "code",
   "execution_count": 21,
   "id": "fab89ee6",
   "metadata": {},
   "outputs": [
    {
     "data": {
      "text/plain": [
       "[8, 3, 2, 1]"
      ]
     },
     "execution_count": 21,
     "metadata": {},
     "output_type": "execute_result"
    }
   ],
   "source": [
    "x[::-1]"
   ]
  },
  {
   "cell_type": "markdown",
   "id": "de3f33fb",
   "metadata": {},
   "source": [
    "##### Tuple"
   ]
  },
  {
   "cell_type": "code",
   "execution_count": 22,
   "id": "ccbc7f4b",
   "metadata": {},
   "outputs": [
    {
     "data": {
      "text/plain": [
       "4"
      ]
     },
     "execution_count": 22,
     "metadata": {},
     "output_type": "execute_result"
    }
   ],
   "source": [
    "y = (1, 2, 3, 4)\n",
    "type(y)\n",
    "y[3]"
   ]
  },
  {
   "cell_type": "code",
   "execution_count": 23,
   "id": "4a57f19d",
   "metadata": {},
   "outputs": [
    {
     "ename": "TypeError",
     "evalue": "'tuple' object does not support item assignment",
     "output_type": "error",
     "traceback": [
      "\u001b[1;31m---------------------------------------------------------------------------\u001b[0m",
      "\u001b[1;31mTypeError\u001b[0m                                 Traceback (most recent call last)",
      "Cell \u001b[1;32mIn[23], line 1\u001b[0m\n\u001b[1;32m----> 1\u001b[0m y[\u001b[39m3\u001b[39m] \u001b[39m=\u001b[39m \u001b[39m8\u001b[39m\n",
      "\u001b[1;31mTypeError\u001b[0m: 'tuple' object does not support item assignment"
     ]
    }
   ],
   "source": [
    "y[3] = 8"
   ]
  },
  {
   "cell_type": "code",
   "execution_count": 24,
   "id": "9ed8aa82",
   "metadata": {},
   "outputs": [
    {
     "name": "stdout",
     "output_type": "stream",
     "text": [
      "(34, 12, 54, 36, 78, 98)\n"
     ]
    },
    {
     "data": {
      "text/plain": [
       "tuple"
      ]
     },
     "execution_count": 24,
     "metadata": {},
     "output_type": "execute_result"
    }
   ],
   "source": [
    "z = 34, 12, 54, 36, 78, 98\n",
    "print(z)\n",
    "type(z)"
   ]
  },
  {
   "cell_type": "markdown",
   "id": "8746615f",
   "metadata": {},
   "source": [
    "##### Dictionary"
   ]
  },
  {
   "cell_type": "code",
   "execution_count": 25,
   "id": "3da5d57f",
   "metadata": {},
   "outputs": [
    {
     "name": "stdout",
     "output_type": "stream",
     "text": [
      "{2: 45, 3: 67, 5: 18, 10: 34}\n",
      "67\n"
     ]
    },
    {
     "data": {
      "text/plain": [
       "dict"
      ]
     },
     "execution_count": 25,
     "metadata": {},
     "output_type": "execute_result"
    }
   ],
   "source": [
    "d = {\n",
    "    2: 45,\n",
    "    3: 67,\n",
    "    5: 18,\n",
    "    10: 34\n",
    "}\n",
    "print(d)\n",
    "print(d[3])\n",
    "type(d)"
   ]
  },
  {
   "cell_type": "markdown",
   "id": "8b5efd02",
   "metadata": {},
   "source": [
    "Get key from value"
   ]
  },
  {
   "cell_type": "code",
   "execution_count": 26,
   "id": "acb506bf",
   "metadata": {},
   "outputs": [
    {
     "name": "stdout",
     "output_type": "stream",
     "text": [
      "2\n"
     ]
    }
   ],
   "source": [
    "print(list(d.keys())[list(d.values()).index(45)])"
   ]
  },
  {
   "cell_type": "markdown",
   "id": "336946eb",
   "metadata": {},
   "source": [
    "##### Set"
   ]
  },
  {
   "cell_type": "code",
   "execution_count": 27,
   "id": "099332c7",
   "metadata": {},
   "outputs": [
    {
     "data": {
      "text/plain": [
       "{4, 5, 6, 7, 8, 9, 99}"
      ]
     },
     "execution_count": 27,
     "metadata": {},
     "output_type": "execute_result"
    }
   ],
   "source": [
    "s = {5, 6, 4, 5, 6, 7, 9, 7, 6, 5, 4, 5, 6, 8}\n",
    "s.add(99)\n",
    "s"
   ]
  },
  {
   "cell_type": "markdown",
   "id": "dbc4193d",
   "metadata": {},
   "source": [
    "##### Math Library"
   ]
  },
  {
   "cell_type": "code",
   "execution_count": 28,
   "id": "222698ab",
   "metadata": {},
   "outputs": [
    {
     "name": "stdout",
     "output_type": "stream",
     "text": [
      "Help on built-in module math:\n",
      "\n",
      "NAME\n",
      "    math\n",
      "\n",
      "DESCRIPTION\n",
      "    This module provides access to the mathematical functions\n",
      "    defined by the C standard.\n",
      "\n",
      "FUNCTIONS\n",
      "    acos(x, /)\n",
      "        Return the arc cosine (measured in radians) of x.\n",
      "\n",
      "        The result is between 0 and pi.\n",
      "\n",
      "    acosh(x, /)\n",
      "        Return the inverse hyperbolic cosine of x.\n",
      "\n",
      "    asin(x, /)\n",
      "        Return the arc sine (measured in radians) of x.\n",
      "\n",
      "        The result is between -pi/2 and pi/2.\n",
      "\n",
      "    asinh(x, /)\n",
      "        Return the inverse hyperbolic sine of x.\n",
      "\n",
      "    atan(x, /)\n",
      "        Return the arc tangent (measured in radians) of x.\n",
      "\n",
      "        The result is between -pi/2 and pi/2.\n",
      "\n",
      "    atan2(y, x, /)\n",
      "        Return the arc tangent (measured in radians) of y/x.\n",
      "\n",
      "        Unlike atan(y/x), the signs of both x and y are considered.\n",
      "\n",
      "    atanh(x, /)\n",
      "        Return the inverse hyperbolic tangent of x.\n",
      "\n",
      "    cbrt(x, /)\n",
      "        Return the cube root of x.\n",
      "\n",
      "    ceil(x, /)\n",
      "        Return the ceiling of x as an Integral.\n",
      "\n",
      "        This is the smallest integer >= x.\n",
      "\n",
      "    comb(n, k, /)\n",
      "        Number of ways to choose k items from n items without repetition and without order.\n",
      "\n",
      "        Evaluates to n! / (k! * (n - k)!) when k <= n and evaluates\n",
      "        to zero when k > n.\n",
      "\n",
      "        Also called the binomial coefficient because it is equivalent\n",
      "        to the coefficient of k-th term in polynomial expansion of the\n",
      "        expression (1 + x)**n.\n",
      "\n",
      "        Raises TypeError if either of the arguments are not integers.\n",
      "        Raises ValueError if either of the arguments are negative.\n",
      "\n",
      "    copysign(x, y, /)\n",
      "        Return a float with the magnitude (absolute value) of x but the sign of y.\n",
      "\n",
      "        On platforms that support signed zeros, copysign(1.0, -0.0)\n",
      "        returns -1.0.\n",
      "\n",
      "    cos(x, /)\n",
      "        Return the cosine of x (measured in radians).\n",
      "\n",
      "    cosh(x, /)\n",
      "        Return the hyperbolic cosine of x.\n",
      "\n",
      "    degrees(x, /)\n",
      "        Convert angle x from radians to degrees.\n",
      "\n",
      "    dist(p, q, /)\n",
      "        Return the Euclidean distance between two points p and q.\n",
      "\n",
      "        The points should be specified as sequences (or iterables) of\n",
      "        coordinates.  Both inputs must have the same dimension.\n",
      "\n",
      "        Roughly equivalent to:\n",
      "            sqrt(sum((px - qx) ** 2.0 for px, qx in zip(p, q)))\n",
      "\n",
      "    erf(x, /)\n",
      "        Error function at x.\n",
      "\n",
      "    erfc(x, /)\n",
      "        Complementary error function at x.\n",
      "\n",
      "    exp(x, /)\n",
      "        Return e raised to the power of x.\n",
      "\n",
      "    exp2(x, /)\n",
      "        Return 2 raised to the power of x.\n",
      "\n",
      "    expm1(x, /)\n",
      "        Return exp(x)-1.\n",
      "\n",
      "        This function avoids the loss of precision involved in the direct evaluation of exp(x)-1 for small x.\n",
      "\n",
      "    fabs(x, /)\n",
      "        Return the absolute value of the float x.\n",
      "\n",
      "    factorial(n, /)\n",
      "        Find n!.\n",
      "\n",
      "        Raise a ValueError if x is negative or non-integral.\n",
      "\n",
      "    floor(x, /)\n",
      "        Return the floor of x as an Integral.\n",
      "\n",
      "        This is the largest integer <= x.\n",
      "\n",
      "    fmod(x, y, /)\n",
      "        Return fmod(x, y), according to platform C.\n",
      "\n",
      "        x % y may differ.\n",
      "\n",
      "    frexp(x, /)\n",
      "        Return the mantissa and exponent of x, as pair (m, e).\n",
      "\n",
      "        m is a float and e is an int, such that x = m * 2.**e.\n",
      "        If x is 0, m and e are both 0.  Else 0.5 <= abs(m) < 1.0.\n",
      "\n",
      "    fsum(seq, /)\n",
      "        Return an accurate floating-point sum of values in the iterable seq.\n",
      "\n",
      "        Assumes IEEE-754 floating-point arithmetic.\n",
      "\n",
      "    gamma(x, /)\n",
      "        Gamma function at x.\n",
      "\n",
      "    gcd(*integers)\n",
      "        Greatest Common Divisor.\n",
      "\n",
      "    hypot(...)\n",
      "        hypot(*coordinates) -> value\n",
      "\n",
      "        Multidimensional Euclidean distance from the origin to a point.\n",
      "\n",
      "        Roughly equivalent to:\n",
      "            sqrt(sum(x**2 for x in coordinates))\n",
      "\n",
      "        For a two dimensional point (x, y), gives the hypotenuse\n",
      "        using the Pythagorean theorem:  sqrt(x*x + y*y).\n",
      "\n",
      "        For example, the hypotenuse of a 3/4/5 right triangle is:\n",
      "\n",
      "            >>> hypot(3.0, 4.0)\n",
      "            5.0\n",
      "\n",
      "    isclose(a, b, *, rel_tol=1e-09, abs_tol=0.0)\n",
      "        Determine whether two floating-point numbers are close in value.\n",
      "\n",
      "          rel_tol\n",
      "            maximum difference for being considered \"close\", relative to the\n",
      "            magnitude of the input values\n",
      "          abs_tol\n",
      "            maximum difference for being considered \"close\", regardless of the\n",
      "            magnitude of the input values\n",
      "\n",
      "        Return True if a is close in value to b, and False otherwise.\n",
      "\n",
      "        For the values to be considered close, the difference between them\n",
      "        must be smaller than at least one of the tolerances.\n",
      "\n",
      "        -inf, inf and NaN behave similarly to the IEEE 754 Standard.  That\n",
      "        is, NaN is not close to anything, even itself.  inf and -inf are\n",
      "        only close to themselves.\n",
      "\n",
      "    isfinite(x, /)\n",
      "        Return True if x is neither an infinity nor a NaN, and False otherwise.\n",
      "\n",
      "    isinf(x, /)\n",
      "        Return True if x is a positive or negative infinity, and False otherwise.\n",
      "\n",
      "    isnan(x, /)\n",
      "        Return True if x is a NaN (not a number), and False otherwise.\n",
      "\n",
      "    isqrt(n, /)\n",
      "        Return the integer part of the square root of the input.\n",
      "\n",
      "    lcm(*integers)\n",
      "        Least Common Multiple.\n",
      "\n",
      "    ldexp(x, i, /)\n",
      "        Return x * (2**i).\n",
      "\n",
      "        This is essentially the inverse of frexp().\n",
      "\n",
      "    lgamma(x, /)\n",
      "        Natural logarithm of absolute value of Gamma function at x.\n",
      "\n",
      "    log(...)\n",
      "        log(x, [base=math.e])\n",
      "        Return the logarithm of x to the given base.\n",
      "\n",
      "        If the base is not specified, returns the natural logarithm (base e) of x.\n",
      "\n",
      "    log10(x, /)\n",
      "        Return the base 10 logarithm of x.\n",
      "\n",
      "    log1p(x, /)\n",
      "        Return the natural logarithm of 1+x (base e).\n",
      "\n",
      "        The result is computed in a way which is accurate for x near zero.\n",
      "\n",
      "    log2(x, /)\n",
      "        Return the base 2 logarithm of x.\n",
      "\n",
      "    modf(x, /)\n",
      "        Return the fractional and integer parts of x.\n",
      "\n",
      "        Both results carry the sign of x and are floats.\n",
      "\n",
      "    nextafter(x, y, /, *, steps=None)\n",
      "        Return the floating-point value the given number of steps after x towards y.\n",
      "\n",
      "        If steps is not specified or is None, it defaults to 1.\n",
      "\n",
      "        Raises a TypeError, if x or y is not a double, or if steps is not an integer.\n",
      "        Raises ValueError if steps is negative.\n",
      "\n",
      "    perm(n, k=None, /)\n",
      "        Number of ways to choose k items from n items without repetition and with order.\n",
      "\n",
      "        Evaluates to n! / (n - k)! when k <= n and evaluates\n",
      "        to zero when k > n.\n",
      "\n",
      "        If k is not specified or is None, then k defaults to n\n",
      "        and the function returns n!.\n",
      "\n",
      "        Raises TypeError if either of the arguments are not integers.\n",
      "        Raises ValueError if either of the arguments are negative.\n",
      "\n",
      "    pow(x, y, /)\n",
      "        Return x**y (x to the power of y).\n",
      "\n",
      "    prod(iterable, /, *, start=1)\n",
      "        Calculate the product of all the elements in the input iterable.\n",
      "\n",
      "        The default start value for the product is 1.\n",
      "\n",
      "        When the iterable is empty, return the start value.  This function is\n",
      "        intended specifically for use with numeric values and may reject\n",
      "        non-numeric types.\n",
      "\n",
      "    radians(x, /)\n",
      "        Convert angle x from degrees to radians.\n",
      "\n",
      "    remainder(x, y, /)\n",
      "        Difference between x and the closest integer multiple of y.\n",
      "\n",
      "        Return x - n*y where n*y is the closest integer multiple of y.\n",
      "        In the case where x is exactly halfway between two multiples of\n",
      "        y, the nearest even value of n is used. The result is always exact.\n",
      "\n",
      "    sin(x, /)\n",
      "        Return the sine of x (measured in radians).\n",
      "\n",
      "    sinh(x, /)\n",
      "        Return the hyperbolic sine of x.\n",
      "\n",
      "    sqrt(x, /)\n",
      "        Return the square root of x.\n",
      "\n",
      "    sumprod(p, q, /)\n",
      "        Return the sum of products of values from two iterables p and q.\n",
      "\n",
      "        Roughly equivalent to:\n",
      "\n",
      "            sum(itertools.starmap(operator.mul, zip(p, q, strict=True)))\n",
      "\n",
      "        For float and mixed int/float inputs, the intermediate products\n",
      "        and sums are computed with extended precision.\n",
      "\n",
      "    tan(x, /)\n",
      "        Return the tangent of x (measured in radians).\n",
      "\n",
      "    tanh(x, /)\n",
      "        Return the hyperbolic tangent of x.\n",
      "\n",
      "    trunc(x, /)\n",
      "        Truncates the Real x to the nearest Integral toward 0.\n",
      "\n",
      "        Uses the __trunc__ magic method.\n",
      "\n",
      "    ulp(x, /)\n",
      "        Return the value of the least significant bit of the float x.\n",
      "\n",
      "DATA\n",
      "    e = 2.718281828459045\n",
      "    inf = inf\n",
      "    nan = nan\n",
      "    pi = 3.141592653589793\n",
      "    tau = 6.283185307179586\n",
      "\n",
      "FILE\n",
      "    (built-in)\n",
      "\n",
      "\n"
     ]
    }
   ],
   "source": [
    "import math\n",
    "help(math)"
   ]
  },
  {
   "cell_type": "code",
   "execution_count": 29,
   "id": "3e4b503a",
   "metadata": {},
   "outputs": [
    {
     "data": {
      "text/plain": [
       "4.795831523312719"
      ]
     },
     "execution_count": 29,
     "metadata": {},
     "output_type": "execute_result"
    }
   ],
   "source": [
    "math.sqrt(23)"
   ]
  },
  {
   "cell_type": "code",
   "execution_count": 30,
   "id": "f21ef0c8",
   "metadata": {},
   "outputs": [
    {
     "data": {
      "text/plain": [
       "-0.5365729180004349"
      ]
     },
     "execution_count": 30,
     "metadata": {},
     "output_type": "execute_result"
    }
   ],
   "source": [
    "math.sin(12)"
   ]
  },
  {
   "cell_type": "code",
   "execution_count": 31,
   "id": "4130054b",
   "metadata": {},
   "outputs": [
    {
     "data": {
      "text/plain": [
       "479001600"
      ]
     },
     "execution_count": 31,
     "metadata": {},
     "output_type": "execute_result"
    }
   ],
   "source": [
    "math.factorial(12)"
   ]
  },
  {
   "cell_type": "code",
   "execution_count": 32,
   "id": "34d17c9b",
   "metadata": {},
   "outputs": [
    {
     "data": {
      "text/plain": [
       "3.141592653589793"
      ]
     },
     "execution_count": 32,
     "metadata": {},
     "output_type": "execute_result"
    }
   ],
   "source": [
    "math.pi"
   ]
  },
  {
   "cell_type": "code",
   "execution_count": 33,
   "id": "59441bac",
   "metadata": {},
   "outputs": [
    {
     "data": {
      "text/plain": [
       "2.718281828459045"
      ]
     },
     "execution_count": 33,
     "metadata": {},
     "output_type": "execute_result"
    }
   ],
   "source": [
    "math.e"
   ]
  },
  {
   "cell_type": "code",
   "execution_count": 34,
   "id": "714b7c7d",
   "metadata": {},
   "outputs": [
    {
     "data": {
      "text/plain": [
       "'Tue Jan  7 09:45:59 2025'"
      ]
     },
     "execution_count": 34,
     "metadata": {},
     "output_type": "execute_result"
    }
   ],
   "source": [
    "import time\n",
    "time.asctime()"
   ]
  },
  {
   "cell_type": "code",
   "execution_count": 35,
   "id": "53d7470a",
   "metadata": {},
   "outputs": [
    {
     "name": "stdout",
     "output_type": "stream",
     "text": [
      "Hello\n",
      "World\n"
     ]
    }
   ],
   "source": [
    "print('Hello')\n",
    "time.sleep(5)\n",
    "print('World')"
   ]
  },
  {
   "cell_type": "markdown",
   "id": "612f926d",
   "metadata": {},
   "source": [
    "##### Object Oriented Programming"
   ]
  },
  {
   "cell_type": "code",
   "execution_count": 36,
   "id": "5ec3f287",
   "metadata": {},
   "outputs": [
    {
     "name": "stdout",
     "output_type": "stream",
     "text": [
      "Name: Dipankar Majumder, Age: 24\n",
      "Eligible for Driving\n"
     ]
    }
   ],
   "source": [
    "class Person:\n",
    "    def __init__(self, name: str, age: int) -> None:\n",
    "        self.name = name\n",
    "        self.age = age\n",
    "    def __str__(self) -> str:\n",
    "        return f\"Name: {self.name}, Age: {self.age}\"\n",
    "    def __repr__(self) -> str:\n",
    "        return f\"Name: {self.name}, Age: {self.age}\"\n",
    "    def show(self) -> None:\n",
    "        print('Values are: ', self.name, self.age)\n",
    "    def is_elegible(self) -> None:\n",
    "        if self.age < 18:\n",
    "            print('NOT eligible for driving')\n",
    "        else:\n",
    "            print('Eligible for Driving')\n",
    "\n",
    "person = Person(\"Dipankar Majumder\", 24)\n",
    "person = Person(name=\"Dipankar Majumder\", age=24)\n",
    "print(person)\n",
    "person.is_elegible()"
   ]
  },
  {
   "cell_type": "markdown",
   "id": "7838efc2",
   "metadata": {},
   "source": [
    "##### Array Operations (NumPy)"
   ]
  },
  {
   "cell_type": "code",
   "execution_count": 37,
   "id": "4f55fce8",
   "metadata": {},
   "outputs": [],
   "source": [
    "import numpy as np"
   ]
  },
  {
   "cell_type": "code",
   "execution_count": 38,
   "id": "5cc3841b",
   "metadata": {},
   "outputs": [
    {
     "data": {
      "text/plain": [
       "array([ 1,  2,  3,  4,  5,  6,  7,  8,  9, 10])"
      ]
     },
     "execution_count": 38,
     "metadata": {},
     "output_type": "execute_result"
    }
   ],
   "source": [
    "x = np.arange(1,11)\n",
    "x"
   ]
  },
  {
   "cell_type": "code",
   "execution_count": 39,
   "id": "5e5e6a97",
   "metadata": {},
   "outputs": [],
   "source": [
    "num = np.array([56, 33, 12, 54, 37, 94, 62])"
   ]
  },
  {
   "cell_type": "code",
   "execution_count": 40,
   "id": "7f59dbed",
   "metadata": {},
   "outputs": [
    {
     "data": {
      "text/plain": [
       "array([56, 33, 12, 54, 37, 94, 62])"
      ]
     },
     "execution_count": 40,
     "metadata": {},
     "output_type": "execute_result"
    }
   ],
   "source": [
    "num"
   ]
  },
  {
   "cell_type": "code",
   "execution_count": 41,
   "id": "290a6d7e",
   "metadata": {},
   "outputs": [
    {
     "data": {
      "text/plain": [
       "dtype('int32')"
      ]
     },
     "execution_count": 41,
     "metadata": {},
     "output_type": "execute_result"
    }
   ],
   "source": [
    "num.dtype"
   ]
  },
  {
   "cell_type": "code",
   "execution_count": 42,
   "id": "72bbb46f",
   "metadata": {},
   "outputs": [],
   "source": [
    "matrix = np.array([\n",
    "    [1, 2, 3],\n",
    "    [4, 5, 6]\n",
    "])"
   ]
  },
  {
   "cell_type": "code",
   "execution_count": 43,
   "id": "da3c7276",
   "metadata": {},
   "outputs": [
    {
     "data": {
      "text/plain": [
       "array([[1, 2, 3],\n",
       "       [4, 5, 6]])"
      ]
     },
     "execution_count": 43,
     "metadata": {},
     "output_type": "execute_result"
    }
   ],
   "source": [
    "matrix"
   ]
  },
  {
   "cell_type": "code",
   "execution_count": 44,
   "id": "88f5865a",
   "metadata": {},
   "outputs": [
    {
     "data": {
      "text/plain": [
       "6"
      ]
     },
     "execution_count": 44,
     "metadata": {},
     "output_type": "execute_result"
    }
   ],
   "source": [
    "matrix.size"
   ]
  },
  {
   "cell_type": "code",
   "execution_count": 45,
   "id": "38f8f168",
   "metadata": {},
   "outputs": [
    {
     "data": {
      "text/plain": [
       "array([3, 6])"
      ]
     },
     "execution_count": 45,
     "metadata": {},
     "output_type": "execute_result"
    }
   ],
   "source": [
    "matrix[:, -1]"
   ]
  },
  {
   "cell_type": "code",
   "execution_count": 46,
   "metadata": {},
   "outputs": [
    {
     "data": {
      "text/plain": [
       "array([[0., 0., 0., 0., 0., 0., 0., 0., 0., 0.],\n",
       "       [0., 0., 0., 0., 0., 0., 0., 0., 0., 0.],\n",
       "       [0., 0., 0., 0., 0., 0., 0., 0., 0., 0.],\n",
       "       [0., 0., 0., 0., 0., 0., 0., 0., 0., 0.],\n",
       "       [0., 0., 0., 0., 0., 0., 0., 0., 0., 0.],\n",
       "       [0., 0., 0., 0., 0., 0., 0., 0., 0., 0.],\n",
       "       [0., 0., 0., 0., 0., 0., 0., 0., 0., 0.],\n",
       "       [0., 0., 0., 0., 0., 0., 0., 0., 0., 0.],\n",
       "       [0., 0., 0., 0., 0., 0., 0., 0., 0., 0.],\n",
       "       [0., 0., 0., 0., 0., 0., 0., 0., 0., 0.]])"
      ]
     },
     "execution_count": 46,
     "metadata": {},
     "output_type": "execute_result"
    }
   ],
   "source": [
    "np.zeros([10, 10])"
   ]
  },
  {
   "cell_type": "code",
   "execution_count": 47,
   "id": "8998b524",
   "metadata": {},
   "outputs": [
    {
     "data": {
      "text/plain": [
       "array([[0.84750242, 0.25912192, 0.19496157, 0.04170238, 0.65217435,\n",
       "        0.32400742, 0.0471598 , 0.05232951, 0.28746939, 0.43747115],\n",
       "       [0.42779508, 0.44940505, 0.91660559, 0.99105319, 0.94746148,\n",
       "        0.78604573, 0.85984593, 0.4880985 , 0.4186593 , 0.20472066],\n",
       "       [0.29588845, 0.236901  , 0.53835111, 0.45687866, 0.88613413,\n",
       "        0.43807764, 0.41968148, 0.19248488, 0.55662716, 0.37862943],\n",
       "       [0.78447407, 0.61227041, 0.60886108, 0.79039753, 0.38495533,\n",
       "        0.77097096, 0.80792455, 0.98574418, 0.57954897, 0.04220653],\n",
       "       [0.47909791, 0.29734223, 0.1604929 , 0.0346922 , 0.96318912,\n",
       "        0.63550777, 0.47899653, 0.92297888, 0.01618043, 0.73586663],\n",
       "       [0.28487693, 0.97056812, 0.37577201, 0.92748689, 0.66453274,\n",
       "        0.87767527, 0.1470524 , 0.6640203 , 0.29918901, 0.24279689],\n",
       "       [0.62066813, 0.1241974 , 0.31485729, 0.91194098, 0.70235836,\n",
       "        0.03662281, 0.17276524, 0.68438322, 0.11737758, 0.23908268],\n",
       "       [0.57369613, 0.86064515, 0.7591522 , 0.51639118, 0.654579  ,\n",
       "        0.38286407, 0.82453163, 0.78610712, 0.15199603, 0.84117373],\n",
       "       [0.96757963, 0.85404602, 0.6236248 , 0.33955789, 0.27090588,\n",
       "        0.46095132, 0.11477496, 0.55166811, 0.12840802, 0.8546097 ],\n",
       "       [0.41800978, 0.34090157, 0.36380769, 0.98001249, 0.4742964 ,\n",
       "        0.65594839, 0.84876269, 0.04180226, 0.24967122, 0.35160497]])"
      ]
     },
     "execution_count": 47,
     "metadata": {},
     "output_type": "execute_result"
    }
   ],
   "source": [
    "np.random.rand(10, 10)"
   ]
  },
  {
   "cell_type": "code",
   "execution_count": null,
   "id": "082af3c9",
   "metadata": {},
   "outputs": [],
   "source": []
  }
 ],
 "metadata": {
  "kernelspec": {
   "display_name": "base",
   "language": "python",
   "name": "python3"
  },
  "language_info": {
   "codemirror_mode": {
    "name": "ipython",
    "version": 3
   },
   "file_extension": ".py",
   "mimetype": "text/x-python",
   "name": "python",
   "nbconvert_exporter": "python",
   "pygments_lexer": "ipython3",
   "version": "3.12.7"
  }
 },
 "nbformat": 4,
 "nbformat_minor": 5
}
