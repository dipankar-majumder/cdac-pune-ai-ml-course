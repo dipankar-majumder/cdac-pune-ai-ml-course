{
 "cells": [
  {
   "cell_type": "markdown",
   "metadata": {},
   "source": [
    "##### Text Classification"
   ]
  },
  {
   "cell_type": "markdown",
   "metadata": {},
   "source": [
    "##### Dataset"
   ]
  },
  {
   "cell_type": "markdown",
   "metadata": {},
   "source": [
    "Download `groceries.csv`\n",
    "\n",
    "Location: https://mitu.co.in/dataset"
   ]
  },
  {
   "cell_type": "markdown",
   "metadata": {},
   "source": [
    "Import the libraries"
   ]
  },
  {
   "cell_type": "code",
   "execution_count": 1,
   "metadata": {},
   "outputs": [],
   "source": [
    "import numpy as np\n",
    "import matplotlib.pyplot as plt\n",
    "import pandas as pd\n",
    "import seaborn as sns\n",
    "import csv"
   ]
  },
  {
   "cell_type": "markdown",
   "metadata": {},
   "source": [
    "load the dataset"
   ]
  },
  {
   "cell_type": "code",
   "execution_count": 5,
   "metadata": {},
   "outputs": [
    {
     "data": {
      "text/html": [
       "<div>\n",
       "<style scoped>\n",
       "    .dataframe tbody tr th:only-of-type {\n",
       "        vertical-align: middle;\n",
       "    }\n",
       "\n",
       "    .dataframe tbody tr th {\n",
       "        vertical-align: top;\n",
       "    }\n",
       "\n",
       "    .dataframe thead th {\n",
       "        text-align: right;\n",
       "    }\n",
       "</style>\n",
       "<table border=\"1\" class=\"dataframe\">\n",
       "  <thead>\n",
       "    <tr style=\"text-align: right;\">\n",
       "      <th></th>\n",
       "      <th>label</th>\n",
       "      <th>text</th>\n",
       "    </tr>\n",
       "  </thead>\n",
       "  <tbody>\n",
       "    <tr>\n",
       "      <th>0</th>\n",
       "      <td>ham</td>\n",
       "      <td>Go until jurong point, crazy.. Available only ...</td>\n",
       "    </tr>\n",
       "    <tr>\n",
       "      <th>1</th>\n",
       "      <td>ham</td>\n",
       "      <td>Ok lar... Joking wif u oni...</td>\n",
       "    </tr>\n",
       "    <tr>\n",
       "      <th>2</th>\n",
       "      <td>spam</td>\n",
       "      <td>Free entry in 2 a wkly comp to win FA Cup fina...</td>\n",
       "    </tr>\n",
       "    <tr>\n",
       "      <th>3</th>\n",
       "      <td>ham</td>\n",
       "      <td>U dun say so early hor... U c already then say...</td>\n",
       "    </tr>\n",
       "    <tr>\n",
       "      <th>4</th>\n",
       "      <td>ham</td>\n",
       "      <td>Nah I don't think he goes to usf, he lives aro...</td>\n",
       "    </tr>\n",
       "    <tr>\n",
       "      <th>...</th>\n",
       "      <td>...</td>\n",
       "      <td>...</td>\n",
       "    </tr>\n",
       "    <tr>\n",
       "      <th>5567</th>\n",
       "      <td>spam</td>\n",
       "      <td>This is the 2nd time we have tried 2 contact u...</td>\n",
       "    </tr>\n",
       "    <tr>\n",
       "      <th>5568</th>\n",
       "      <td>ham</td>\n",
       "      <td>Will ü b going to esplanade fr home?</td>\n",
       "    </tr>\n",
       "    <tr>\n",
       "      <th>5569</th>\n",
       "      <td>ham</td>\n",
       "      <td>Pity, * was in mood for that. So...any other s...</td>\n",
       "    </tr>\n",
       "    <tr>\n",
       "      <th>5570</th>\n",
       "      <td>ham</td>\n",
       "      <td>The guy did some bitching but I acted like i'd...</td>\n",
       "    </tr>\n",
       "    <tr>\n",
       "      <th>5571</th>\n",
       "      <td>ham</td>\n",
       "      <td>Rofl. Its true to its name</td>\n",
       "    </tr>\n",
       "  </tbody>\n",
       "</table>\n",
       "<p>5572 rows × 2 columns</p>\n",
       "</div>"
      ],
      "text/plain": [
       "     label                                               text\n",
       "0      ham  Go until jurong point, crazy.. Available only ...\n",
       "1      ham                      Ok lar... Joking wif u oni...\n",
       "2     spam  Free entry in 2 a wkly comp to win FA Cup fina...\n",
       "3      ham  U dun say so early hor... U c already then say...\n",
       "4      ham  Nah I don't think he goes to usf, he lives aro...\n",
       "...    ...                                                ...\n",
       "5567  spam  This is the 2nd time we have tried 2 contact u...\n",
       "5568   ham               Will ü b going to esplanade fr home?\n",
       "5569   ham  Pity, * was in mood for that. So...any other s...\n",
       "5570   ham  The guy did some bitching but I acted like i'd...\n",
       "5571   ham                         Rofl. Its true to its name\n",
       "\n",
       "[5572 rows x 2 columns]"
      ]
     },
     "execution_count": 5,
     "metadata": {},
     "output_type": "execute_result"
    }
   ],
   "source": [
    "df = pd.read_csv('datasets/SMSSpamCollection', sep='\\t', names=['label', 'text'])\n",
    "df"
   ]
  },
  {
   "cell_type": "code",
   "execution_count": 17,
   "metadata": {},
   "outputs": [
    {
     "data": {
      "text/plain": [
       "{'',\n",
       " 'PA',\n",
       " 'Having',\n",
       " 'prizesWith..',\n",
       " 'least...Which',\n",
       " '2005.',\n",
       " 'Save',\n",
       " 'scotland.',\n",
       " 'emergency',\n",
       " 'occupied,',\n",
       " '9-6.',\n",
       " 'boobs.',\n",
       " 'facebook.',\n",
       " 'tho!',\n",
       " 'BANNEDUK',\n",
       " 'visit',\n",
       " 'rate)',\n",
       " 'Hospital',\n",
       " 'Jackpot!',\n",
       " 'da:)he',\n",
       " 'CHA',\n",
       " 'plz.',\n",
       " 'Thursday.',\n",
       " 'about.',\n",
       " 'Ron',\n",
       " 'Sending',\n",
       " 'Hols.',\n",
       " '12hours',\n",
       " 'Txting',\n",
       " 'reach',\n",
       " 'wonder...',\n",
       " 'sufficient',\n",
       " 'Traditions....',\n",
       " 'soup',\n",
       " 'Din',\n",
       " 'machines',\n",
       " 'Hopefully',\n",
       " 'racing',\n",
       " 'Shuhui',\n",
       " 'Every',\n",
       " 'hey,',\n",
       " 'o2.co.uk/games',\n",
       " 'that..',\n",
       " 'punch',\n",
       " 'going,',\n",
       " 'terms.',\n",
       " 'treadmill',\n",
       " 'closed,including',\n",
       " 'wanting',\n",
       " 'part.',\n",
       " 'donate',\n",
       " 'say!',\n",
       " 'Neway',\n",
       " 'toshiba...',\n",
       " '0800',\n",
       " 'Thanx',\n",
       " 'rent',\n",
       " 'please?!',\n",
       " 'ithink',\n",
       " 'fidalfication?',\n",
       " 'dedicate',\n",
       " 'DRACULA',\n",
       " 'reminded',\n",
       " 'K..u',\n",
       " 'taxt',\n",
       " 'Moji',\n",
       " 'colour',\n",
       " '08718720201',\n",
       " 'do.Interested?',\n",
       " 'us:)no',\n",
       " 'vivek..',\n",
       " 'Iriver',\n",
       " 'DIDNT',\n",
       " 'feels',\n",
       " 'Usmle,',\n",
       " 'boundaries.',\n",
       " 'inviting',\n",
       " '80086',\n",
       " 'deal:-)',\n",
       " 'offer',\n",
       " 'Use',\n",
       " 'application',\n",
       " 'A-ffectionate.',\n",
       " 'fundamentals',\n",
       " 'specialise',\n",
       " 'Dear,Me',\n",
       " 'entry',\n",
       " '$95/pax,',\n",
       " 'eta.',\n",
       " 'mini',\n",
       " 'HG/Suite342/2Lands',\n",
       " '.nt',\n",
       " 'nw',\n",
       " 'breadstick.',\n",
       " 'jap',\n",
       " 'asks',\n",
       " '0871-4719-523',\n",
       " 'service.',\n",
       " 'strtd',\n",
       " '861',\n",
       " '89938',\n",
       " 'significant',\n",
       " 'rows',\n",
       " 'dr.',\n",
       " 'beads',\n",
       " 'chennai:-)',\n",
       " '4.47per',\n",
       " 'mush!',\n",
       " 'auction..',\n",
       " 'Depends',\n",
       " 'Eta',\n",
       " 'CHARITY',\n",
       " 'NRI',\n",
       " 'outages',\n",
       " 'XCHAT.',\n",
       " 'Langport.',\n",
       " 'meds',\n",
       " 'MEREMEMBERIN',\n",
       " 'tootsie',\n",
       " 'strange',\n",
       " 'GURL',\n",
       " 're-send.',\n",
       " 'surprise!',\n",
       " '4mths',\n",
       " 'AXIS',\n",
       " 'bath',\n",
       " 'leonardo',\n",
       " 'nt?',\n",
       " 'somone',\n",
       " '1Tulsi',\n",
       " 'some1',\n",
       " 'vehicle',\n",
       " 'Understand.',\n",
       " 'repeat',\n",
       " \"xin's\",\n",
       " 'home...',\n",
       " 'Crack',\n",
       " 'Guild.',\n",
       " 'Chart',\n",
       " 'WA14',\n",
       " 'mine.',\n",
       " 'zeros.',\n",
       " 'gym?',\n",
       " 'lennon.',\n",
       " 'atHome',\n",
       " 'Jordan',\n",
       " 'skype',\n",
       " 'Direct',\n",
       " 'Tunde,',\n",
       " 'kilos',\n",
       " 'shop',\n",
       " \"can't,\",\n",
       " 'bac',\n",
       " 'www.fullonsms.com',\n",
       " 'infra',\n",
       " 'Granite',\n",
       " 'wrote',\n",
       " 'OUTSOMEWHERE',\n",
       " 'kidding,',\n",
       " 'horny,',\n",
       " 'borderline',\n",
       " 'pride.',\n",
       " 'Burns',\n",
       " 'welp',\n",
       " 'JESS',\n",
       " 'E-ternal.',\n",
       " 'detailed',\n",
       " 'recharge..Rakhesh',\n",
       " 'bold.',\n",
       " 'moby.',\n",
       " 'dudes',\n",
       " 'RANDOM!',\n",
       " 'TEXT?',\n",
       " 'norm150p/tone',\n",
       " '09061104276',\n",
       " 'Day!',\n",
       " '10p/min.',\n",
       " 'RIGHT',\n",
       " 'meaning',\n",
       " 'Havent.',\n",
       " 'rahul',\n",
       " 'religiously.',\n",
       " 'St',\n",
       " 'spouse',\n",
       " 'TRUBLE',\n",
       " 'throat',\n",
       " 'GUARANTEED!',\n",
       " 'eve.',\n",
       " 'ese',\n",
       " 'mah...',\n",
       " 'volcanoes',\n",
       " 'www.cashbin.co.uk',\n",
       " 'Sara',\n",
       " 'Fancy',\n",
       " \"Prashanthettan's\",\n",
       " '30s',\n",
       " 'remb...',\n",
       " '0870',\n",
       " 'together!',\n",
       " 'Verify',\n",
       " 'Lol!',\n",
       " \"Joy's\",\n",
       " 'evng.',\n",
       " 'leave.',\n",
       " 'shower!',\n",
       " 'meetins',\n",
       " 'En',\n",
       " 'sept.',\n",
       " 'calculated',\n",
       " 'filthyguys.',\n",
       " 'Had',\n",
       " 'Wife.how',\n",
       " '/',\n",
       " 'genes',\n",
       " 'HARRY,',\n",
       " 'possession',\n",
       " '7732584351,',\n",
       " 'SW7',\n",
       " 'POBOX114/14TCR/W1',\n",
       " 'jaklin',\n",
       " \"I'ma\",\n",
       " 'Enjoy,',\n",
       " 'sch.',\n",
       " '10am-7pm',\n",
       " '08719899230',\n",
       " 'bought\\x94braindance\\x94a',\n",
       " 'BACK',\n",
       " \"I'll\",\n",
       " 'row',\n",
       " 'comfort',\n",
       " 'mango',\n",
       " ':(',\n",
       " 'Wendy',\n",
       " 'Solve',\n",
       " 'friends',\n",
       " 'head…',\n",
       " 'wearing?',\n",
       " 'date?',\n",
       " 'Still',\n",
       " 'Loved',\n",
       " 'tat',\n",
       " 'Spending',\n",
       " 'bitching',\n",
       " 'BROKE',\n",
       " 'Wkly',\n",
       " 'puttin',\n",
       " 'oredi..',\n",
       " '£5000',\n",
       " '500',\n",
       " 'u,',\n",
       " 'S...from',\n",
       " 'lac',\n",
       " 'diet?',\n",
       " 'e-threats.',\n",
       " '08701213186.',\n",
       " 'mns',\n",
       " 'Poly/200p',\n",
       " 'contribute',\n",
       " 'AIG',\n",
       " 'attraction.i',\n",
       " 'thandiyachu',\n",
       " 'gud',\n",
       " 'Were',\n",
       " 'hear.',\n",
       " 'sooner?',\n",
       " '2bold?',\n",
       " 'illness',\n",
       " ':-):-)',\n",
       " 'friends,',\n",
       " 'tigress...',\n",
       " 'CREDIT',\n",
       " 'JOBYET',\n",
       " 'SMS.',\n",
       " '2morrow',\n",
       " 'TEX',\n",
       " 'poker,',\n",
       " 'INCONVENIENCE',\n",
       " 'well',\n",
       " 'usual..iam',\n",
       " 'celebration',\n",
       " 'meant.',\n",
       " 'cant',\n",
       " 'u!xxxx',\n",
       " 'honey.',\n",
       " 'Wn',\n",
       " 'Normal',\n",
       " '08712405022,',\n",
       " '2MORO',\n",
       " 'sales/pee',\n",
       " 'arrange.',\n",
       " 'Plus',\n",
       " 'XXXXX',\n",
       " 'aid',\n",
       " 'sugardad',\n",
       " \"You're\",\n",
       " 'pussy...',\n",
       " 'Juz',\n",
       " 'digital',\n",
       " 'breather.',\n",
       " \"There's\",\n",
       " 'DOWNON',\n",
       " 'Ptbo',\n",
       " 'night?',\n",
       " 'Playin',\n",
       " '4a',\n",
       " 'BBD..thts',\n",
       " 'sutra',\n",
       " 'Kent',\n",
       " 'It',\n",
       " 'take?',\n",
       " 'nyc',\n",
       " 'TXT',\n",
       " 'early..',\n",
       " 'mention',\n",
       " '.after',\n",
       " ':',\n",
       " 'charles',\n",
       " 'retrieve',\n",
       " 'dismay',\n",
       " 'BBD(pooja)',\n",
       " 'txtin',\n",
       " 'image',\n",
       " 'today.do',\n",
       " 'pizza.',\n",
       " 'Cttargg.',\n",
       " 'box403',\n",
       " 'everybody',\n",
       " 'mate!',\n",
       " 'Barry',\n",
       " 'that...',\n",
       " 'whose',\n",
       " 'nalli',\n",
       " 'long.',\n",
       " 'Simpsons',\n",
       " 'Come',\n",
       " 'evrydy',\n",
       " 'info',\n",
       " 'unhappiness!',\n",
       " 'MobileUpd8',\n",
       " 'Cable',\n",
       " 'Lands',\n",
       " 'attitude',\n",
       " 'PIC',\n",
       " 'banks',\n",
       " 'nap..',\n",
       " '09061790121',\n",
       " 'mean',\n",
       " 'manege',\n",
       " '08718738034.',\n",
       " 'What‘s',\n",
       " 'girl??',\n",
       " 'Lvblefrnd',\n",
       " 'Xavier',\n",
       " 'pulling',\n",
       " 'reboot',\n",
       " 'you:-.',\n",
       " 'inform',\n",
       " 'sway',\n",
       " '2%',\n",
       " 'investigate',\n",
       " 'mins',\n",
       " 'replying',\n",
       " 'OUT',\n",
       " 'quiet',\n",
       " 'guarantee',\n",
       " 'worry...use',\n",
       " 'posting',\n",
       " 'LKPOBOX177HP51FL',\n",
       " 'cheating.',\n",
       " 'POBox36504W45WQ',\n",
       " 'appear',\n",
       " 'havent',\n",
       " 'thats',\n",
       " 'incident?',\n",
       " 'spaces.',\n",
       " 'forever!',\n",
       " 'short.',\n",
       " 'gving',\n",
       " 'chosen',\n",
       " 'answr.',\n",
       " 'Guai...',\n",
       " 'medical',\n",
       " 'rumour',\n",
       " 'BREAKIN',\n",
       " 'CONTENTION',\n",
       " 'Pick',\n",
       " 'Alright',\n",
       " 'KATE',\n",
       " 'Disconnect',\n",
       " 'wknd',\n",
       " 'Does',\n",
       " 'date',\n",
       " 'na',\n",
       " 'luv.',\n",
       " 'independently',\n",
       " 'Voila!',\n",
       " 'Oic',\n",
       " 'pizza',\n",
       " 'FUCKIN',\n",
       " 'lasagna',\n",
       " 'Bob,',\n",
       " '(More',\n",
       " 'MATE!',\n",
       " 'sarcasm..',\n",
       " 'souveniers',\n",
       " 'accessible.',\n",
       " \"upset--it's\",\n",
       " 'come.',\n",
       " 'mine',\n",
       " 'lambda',\n",
       " '89555',\n",
       " 'dogwood',\n",
       " 'crab..',\n",
       " '45239',\n",
       " 'friday',\n",
       " 'simple',\n",
       " 'mailed',\n",
       " 'Ahhh.',\n",
       " 'help,',\n",
       " 'MAYBE',\n",
       " 'Toledo.',\n",
       " 'XXXXXX',\n",
       " 'presents.',\n",
       " 'comes',\n",
       " 'looks',\n",
       " 'Oh',\n",
       " 'word:START',\n",
       " 'boston,',\n",
       " 'More',\n",
       " 'lido.',\n",
       " 'Newport',\n",
       " 'magical',\n",
       " 'Credit!',\n",
       " 'monday',\n",
       " '...*kiss*',\n",
       " 'benefits',\n",
       " '09058097189',\n",
       " 'ola?',\n",
       " 'Cab',\n",
       " \"joke's\",\n",
       " '.by',\n",
       " '08718730666',\n",
       " 'yan',\n",
       " 'Tel)',\n",
       " 'keys?',\n",
       " 'laptop?',\n",
       " 'recovery,',\n",
       " 'castor?',\n",
       " 'dodda',\n",
       " 'supose',\n",
       " 'comfey;',\n",
       " 'general',\n",
       " '$',\n",
       " 'office.thenampet',\n",
       " '8.30',\n",
       " 'sleep..',\n",
       " 'everyone...',\n",
       " 'love!',\n",
       " '9+2+4=',\n",
       " 'life?',\n",
       " 'queen.',\n",
       " 'cme',\n",
       " 'Cud',\n",
       " 'interesting.',\n",
       " 'end',\n",
       " 'accomodate.',\n",
       " '1225',\n",
       " 'malaria',\n",
       " 'CLoSE',\n",
       " 'conducts',\n",
       " 'g.',\n",
       " 'cuddling..',\n",
       " 'TONITE',\n",
       " 'y',\n",
       " 'toothpaste',\n",
       " 'whole',\n",
       " 'N',\n",
       " 'drove',\n",
       " 'www.ldew.com',\n",
       " 'answered:',\n",
       " \"Gumby's\",\n",
       " 'programs',\n",
       " 'likes',\n",
       " 'winds',\n",
       " 'shut',\n",
       " '08719181259',\n",
       " '08718738002',\n",
       " 'Sup,',\n",
       " '69698',\n",
       " 'Hmm.',\n",
       " 'should.',\n",
       " 'question.',\n",
       " '5we.',\n",
       " 'aging',\n",
       " 'nevr',\n",
       " 'course.',\n",
       " 'Then.',\n",
       " 'wap',\n",
       " 'polys',\n",
       " 'think?',\n",
       " 'buy.',\n",
       " 'itried2tell',\n",
       " 'finishing',\n",
       " 'collages',\n",
       " 'uh,',\n",
       " 'Lmao.',\n",
       " 'luck.',\n",
       " 'mood.',\n",
       " 'smiling..',\n",
       " 'telphone...',\n",
       " 'Bx',\n",
       " 'home!But',\n",
       " 'site',\n",
       " 'ENJOYIN',\n",
       " 'happy?',\n",
       " 'leave?',\n",
       " 'lion',\n",
       " 'Football',\n",
       " 'www.B4Utele.com',\n",
       " 'ILEAVE',\n",
       " 'hat,',\n",
       " 'stalk',\n",
       " 'tmr...',\n",
       " 'Hmmm,',\n",
       " 'correction.',\n",
       " 'subscriber',\n",
       " '28/5',\n",
       " 'Hmmm',\n",
       " '\"Because',\n",
       " 'HELP',\n",
       " '*adoring',\n",
       " 'Fuuuuck',\n",
       " '4041',\n",
       " 'msn.',\n",
       " 'STUDY',\n",
       " '£10,000',\n",
       " '3d',\n",
       " 'reception',\n",
       " 'unlimited',\n",
       " 'lie',\n",
       " 'December',\n",
       " 'now?can',\n",
       " 'Peripherals',\n",
       " 'pic?',\n",
       " 'abt...',\n",
       " 'lect',\n",
       " 'Leaving',\n",
       " 'SN',\n",
       " 'Yetunde,',\n",
       " 'Stop',\n",
       " 'T&Cs',\n",
       " 'Mah',\n",
       " 'invite',\n",
       " 'us',\n",
       " 'ou',\n",
       " 'slide',\n",
       " 'Saturday.',\n",
       " '09058094455',\n",
       " 'opinions.',\n",
       " 'care',\n",
       " 'moves',\n",
       " 'wiv',\n",
       " 'fault,',\n",
       " 'boyfriend',\n",
       " 'tongued',\n",
       " 'Admirer',\n",
       " 'Tom,',\n",
       " 'Icic...',\n",
       " 'hols',\n",
       " 'CR9',\n",
       " 'taxi?',\n",
       " 'mre',\n",
       " 'j',\n",
       " 'not?',\n",
       " 'Golf',\n",
       " 'emerging',\n",
       " 'charity',\n",
       " 'HOT',\n",
       " 'IT?T.B*',\n",
       " 'boring.',\n",
       " 'Join.',\n",
       " 'ideas.',\n",
       " 'Derp.',\n",
       " 'voucher',\n",
       " 'Shampain',\n",
       " 'stop...',\n",
       " 'svc.',\n",
       " 'Ice',\n",
       " 'sleeping..and',\n",
       " 'Now?',\n",
       " 'venaam..',\n",
       " \"did'nt\",\n",
       " 'Indians.',\n",
       " 'fainting',\n",
       " 'tattoos?',\n",
       " 'original',\n",
       " 'push',\n",
       " 'Hm',\n",
       " 'SmartCall',\n",
       " 'flight',\n",
       " 'FROMWRK',\n",
       " 'Complete',\n",
       " 'neekunna',\n",
       " 'Cine',\n",
       " 'tho.',\n",
       " 'Yup',\n",
       " 'SWAP',\n",
       " 'me...ummifying...bye.',\n",
       " 'Ltd.£1,50/Mtmsgrcvd18+',\n",
       " 'EVERY1',\n",
       " 'Thats',\n",
       " 'troubleshooting:)',\n",
       " 'shared',\n",
       " 'cared,',\n",
       " 'renewal.',\n",
       " 'cheat',\n",
       " 'CALLED',\n",
       " 'HARDCORE',\n",
       " 'wit',\n",
       " 'Orange',\n",
       " 'Uhhhhrmm',\n",
       " '1stchoice.co.uk',\n",
       " 'jeans',\n",
       " 'country.',\n",
       " 'digits)',\n",
       " '8pm.',\n",
       " '-PLS',\n",
       " 'doing.',\n",
       " 'tear',\n",
       " 'news:',\n",
       " 'swashbuckling',\n",
       " '08719899217',\n",
       " 'Alrite',\n",
       " 'phasing',\n",
       " '15541',\n",
       " 'murdered',\n",
       " 'eh?',\n",
       " 'sporadically',\n",
       " 'u:',\n",
       " 'jeetey',\n",
       " 'brings',\n",
       " 'jay',\n",
       " 'beverage',\n",
       " 'dog',\n",
       " 'gastroenteritis.',\n",
       " 'fast!',\n",
       " 'news.By',\n",
       " 'Since',\n",
       " 'DVD!',\n",
       " 'Offer:',\n",
       " 'Find',\n",
       " 'SPAM',\n",
       " 'understanding.',\n",
       " 'disappeared,',\n",
       " 'WKENT/150P16+',\n",
       " 'payments',\n",
       " 'NR31',\n",
       " 'get!',\n",
       " 'etc.?',\n",
       " 'Xmas?',\n",
       " 'Romantic',\n",
       " 'FRESHERS',\n",
       " 'O:-)',\n",
       " 'AGAINST',\n",
       " 'rpl',\n",
       " 'wait',\n",
       " 'train',\n",
       " '08002888812',\n",
       " 'be.',\n",
       " 'angry',\n",
       " '…',\n",
       " 'individual',\n",
       " 'sittin',\n",
       " 'dartboard.',\n",
       " 'legal',\n",
       " 'Male',\n",
       " 'poured',\n",
       " 'apt',\n",
       " 'sad...',\n",
       " 'U,',\n",
       " 'percent',\n",
       " 'film?',\n",
       " 'Mark.',\n",
       " 'confused...',\n",
       " 'izzit',\n",
       " 'finds',\n",
       " '2NITE?',\n",
       " 'EXTREME',\n",
       " 'Amazing...',\n",
       " 'Tea',\n",
       " 'cinema.',\n",
       " 'Pleasure',\n",
       " 'over,',\n",
       " 'K..k..any',\n",
       " 'rocks',\n",
       " 'trips?',\n",
       " 'hugh',\n",
       " 'leona?',\n",
       " 'big..|',\n",
       " 'scratches',\n",
       " 'Babe',\n",
       " 'Mmm',\n",
       " 'MOAN',\n",
       " 'tv',\n",
       " 'SEX',\n",
       " 'Santa',\n",
       " 'walmart.',\n",
       " 'TALKBUT',\n",
       " 'UK-mobile-date',\n",
       " 'WRONG!!TAKE',\n",
       " 'WK.',\n",
       " 'drms.take',\n",
       " 'wks',\n",
       " 'selling',\n",
       " 'available..i',\n",
       " 'settle',\n",
       " 'Argh',\n",
       " 'assume',\n",
       " 'laden.',\n",
       " 'ans.',\n",
       " 'oredi?',\n",
       " 'hmm.',\n",
       " 'powerful',\n",
       " 'mayb?',\n",
       " 'nor',\n",
       " 'page',\n",
       " 'posh',\n",
       " 'Day\"',\n",
       " 'persons..\"',\n",
       " 'a-?',\n",
       " 'download,',\n",
       " 'results',\n",
       " '08000930705',\n",
       " 'Birthday',\n",
       " 'life:):)',\n",
       " 'needing',\n",
       " '10p',\n",
       " 'meals',\n",
       " 'Log',\n",
       " 'though.',\n",
       " \"i've\",\n",
       " 'amount',\n",
       " 'know,yetunde',\n",
       " 'seeing',\n",
       " 'ALWAYS',\n",
       " 'meh...',\n",
       " 'done?',\n",
       " 'astoundingly',\n",
       " 'bored...',\n",
       " 'daily.',\n",
       " 'attend',\n",
       " 'activities',\n",
       " 'oso',\n",
       " 'kalstiya..then',\n",
       " 'cool!',\n",
       " 'option!',\n",
       " 'rest',\n",
       " 'Jerry',\n",
       " 'patty',\n",
       " 'ofice',\n",
       " 'mistake',\n",
       " 'Oh:)as',\n",
       " 'late?',\n",
       " 'Japanese',\n",
       " '6pm',\n",
       " 'happening?',\n",
       " 'mary',\n",
       " 'tomo',\n",
       " 'IQ.',\n",
       " 'explicit',\n",
       " 'Whens',\n",
       " 'mobile.',\n",
       " 'cost£3.75max',\n",
       " 'MUCH!!I',\n",
       " 'james',\n",
       " 'days.èn',\n",
       " 'bollox',\n",
       " 'bright',\n",
       " 'something',\n",
       " 'craving',\n",
       " 'bt',\n",
       " 'gpu',\n",
       " 'LONG',\n",
       " 'donno',\n",
       " 'Jon,',\n",
       " 'poortiyagi',\n",
       " 'duvet',\n",
       " 'deer',\n",
       " 'papers',\n",
       " 'definite',\n",
       " 'dot',\n",
       " 'movie',\n",
       " 'excellent',\n",
       " 'W4',\n",
       " 'yuou',\n",
       " 'Love.',\n",
       " 'shelves',\n",
       " 'hiya',\n",
       " 'anyway',\n",
       " 'becausethey',\n",
       " 'PREMIER.',\n",
       " 'FUNNY!',\n",
       " 'Row/W1j6HL',\n",
       " 'agree.',\n",
       " 'MobilesDirect',\n",
       " '?1,000',\n",
       " 'Quiz.',\n",
       " 'FreeMsg',\n",
       " 'unnecessarily',\n",
       " 'buzz',\n",
       " 'MUNSTERS,',\n",
       " 'glorious',\n",
       " 'anjie!',\n",
       " 'crore',\n",
       " 'choice',\n",
       " 'GMW',\n",
       " 'abi.',\n",
       " 'world.',\n",
       " 'time!;-)',\n",
       " 'fooled',\n",
       " 'coupla',\n",
       " 'pending.',\n",
       " 'marry',\n",
       " 'dating?',\n",
       " 'nahi',\n",
       " 'now!SKY',\n",
       " '08719839835.',\n",
       " 'stuffed',\n",
       " '12:30',\n",
       " 'hurt..',\n",
       " ':)going',\n",
       " 'ho!',\n",
       " 'confidence',\n",
       " 'prospects',\n",
       " 'tuition...',\n",
       " 'Bit',\n",
       " 'crap',\n",
       " 'Yunny',\n",
       " 'gv',\n",
       " 'shoes.',\n",
       " 'say...',\n",
       " 'burger',\n",
       " 'The',\n",
       " 'falls',\n",
       " '(100p/SMS)',\n",
       " '£5/month',\n",
       " 'free.',\n",
       " 'Hui',\n",
       " 'info:',\n",
       " 'Centre',\n",
       " 'walsall',\n",
       " \"There'll\",\n",
       " 'spoiled?',\n",
       " 'housework',\n",
       " 'TONIGHT!',\n",
       " '\"Walk',\n",
       " 'ACCEPT',\n",
       " 'MIX\"',\n",
       " 'slightly',\n",
       " 'urself.',\n",
       " 'WANNATELL',\n",
       " 'seconds.',\n",
       " 'crucial',\n",
       " 'wlcome',\n",
       " '4?',\n",
       " 'happy...',\n",
       " 'text',\n",
       " 'alwa....!!:)',\n",
       " 'They',\n",
       " 'SURE',\n",
       " 'granted',\n",
       " 'mt..',\n",
       " \"Harish's\",\n",
       " 'account',\n",
       " 'Fml',\n",
       " 'Hubby',\n",
       " 'fever',\n",
       " 'Refused',\n",
       " 'www.ldew.com1win150ppmx3age16',\n",
       " 'vid',\n",
       " 'playing',\n",
       " 'Today-sunday..sunday',\n",
       " 'msging',\n",
       " '69911(£1.50p.',\n",
       " 'floppy...',\n",
       " 'Mumtaz',\n",
       " 'counts',\n",
       " 'mobiles',\n",
       " 'congrats',\n",
       " 'ever,',\n",
       " 'prolly',\n",
       " '$900',\n",
       " 'doesn\\x92t',\n",
       " 'nitz...',\n",
       " '5WB',\n",
       " 'Get',\n",
       " \"idea's?\",\n",
       " 'Polys.',\n",
       " 'rain',\n",
       " 'configure',\n",
       " 'animation',\n",
       " 'morphine.',\n",
       " 'UP',\n",
       " 'credits',\n",
       " 'How.',\n",
       " 'smth.',\n",
       " 'smokes,',\n",
       " 'functions?',\n",
       " 'Hockey.',\n",
       " 'brains',\n",
       " 'Me,',\n",
       " 'Close',\n",
       " 'means',\n",
       " 'arithmetic',\n",
       " 'ok,',\n",
       " 'HAVE',\n",
       " 'Id',\n",
       " 'ext.',\n",
       " 'basically',\n",
       " 'proove',\n",
       " 'Camcorder',\n",
       " 'eyes...',\n",
       " 'di',\n",
       " 'bimbo',\n",
       " '\"sleep',\n",
       " 'LIKELY',\n",
       " 'miles',\n",
       " 'suffering',\n",
       " 'mtnl',\n",
       " 'shud',\n",
       " 'dificult',\n",
       " 'outrageous.',\n",
       " 'CLAIM',\n",
       " 'march.',\n",
       " 'hand',\n",
       " 'Music',\n",
       " 'celeb!4',\n",
       " 'Boy;',\n",
       " 'ABTA',\n",
       " 'Blue;u',\n",
       " 'Including',\n",
       " 'special,',\n",
       " '4*Lux',\n",
       " 'Service',\n",
       " 'pin',\n",
       " 'tot',\n",
       " 'forever',\n",
       " 'THING',\n",
       " 'gari',\n",
       " 'partner',\n",
       " 'Wen',\n",
       " 'Gee...',\n",
       " 'LOG',\n",
       " 'nachos.',\n",
       " 'ringtones',\n",
       " 'face',\n",
       " 'feet*',\n",
       " \"hubby's\",\n",
       " 'Make',\n",
       " 'cumming',\n",
       " 'hear,',\n",
       " 'NOW1!',\n",
       " 'truffles',\n",
       " 'dogging',\n",
       " 'Remove',\n",
       " ':)so',\n",
       " 'pulls',\n",
       " 'EURO',\n",
       " '8552.',\n",
       " 'msg..sometext',\n",
       " 'men',\n",
       " 'mrng.',\n",
       " 'champneys.',\n",
       " 'PocketBabe.co.uk',\n",
       " 'florida',\n",
       " 'lmao',\n",
       " 'pretsorginta,',\n",
       " 'Normally',\n",
       " 'boss',\n",
       " 'learned',\n",
       " 'WHO',\n",
       " '!1',\n",
       " 'Dear',\n",
       " 'ALSO',\n",
       " 'This',\n",
       " 'NICE',\n",
       " 'offer,',\n",
       " 'moon.',\n",
       " 'dismissial',\n",
       " 'sura,',\n",
       " 'puzzeles.',\n",
       " 'issue.',\n",
       " 'evening.',\n",
       " 'ASAP',\n",
       " 'me.I',\n",
       " 'How?',\n",
       " 'revealed.',\n",
       " 'lonely,',\n",
       " 'clarify',\n",
       " 'Stockport,',\n",
       " ...}"
      ]
     },
     "execution_count": 17,
     "metadata": {},
     "output_type": "execute_result"
    }
   ],
   "source": [
    "set([j for i in [j.split(' ') for i in df.values for j in i] for j in i])"
   ]
  },
  {
   "cell_type": "code",
   "execution_count": 18,
   "metadata": {},
   "outputs": [
    {
     "data": {
      "text/plain": [
       "15694"
      ]
     },
     "execution_count": 18,
     "metadata": {},
     "output_type": "execute_result"
    }
   ],
   "source": [
    "len(set([j for i in [j.split(' ') for i in df.values for j in i] for j in i]))"
   ]
  },
  {
   "cell_type": "markdown",
   "metadata": {},
   "source": [
    "##### Separate the input and output data"
   ]
  },
  {
   "cell_type": "code",
   "execution_count": 10,
   "metadata": {},
   "outputs": [],
   "source": [
    "x = df['text']\n",
    "y = df['label']"
   ]
  },
  {
   "cell_type": "code",
   "execution_count": 102,
   "metadata": {},
   "outputs": [
    {
     "data": {
      "text/plain": [
       "((5572,), (5572,))"
      ]
     },
     "execution_count": 102,
     "metadata": {},
     "output_type": "execute_result"
    }
   ],
   "source": [
    "x.shape, y.shape"
   ]
  },
  {
   "cell_type": "markdown",
   "metadata": {},
   "source": [
    "Explore the data"
   ]
  },
  {
   "cell_type": "code",
   "execution_count": 11,
   "metadata": {},
   "outputs": [
    {
     "data": {
      "text/plain": [
       "<Axes: xlabel='label', ylabel='count'>"
      ]
     },
     "execution_count": 11,
     "metadata": {},
     "output_type": "execute_result"
    },
    {
     "data": {
      "image/png": "[encoded data removed]",
      "text/plain": [
       "<Figure size 640x480 with 1 Axes>"
      ]
     },
     "metadata": {},
     "output_type": "display_data"
    }
   ],
   "source": [
    "sns.countplot(x=y)"
   ]
  },
  {
   "cell_type": "code",
   "execution_count": 16,
   "metadata": {},
   "outputs": [
    {
     "data": {
      "text/plain": [
       "([<matplotlib.patches.Wedge at 0x19be7639dc0>,\n",
       "  <matplotlib.patches.Wedge at 0x19be7889400>],\n",
       " [Text(-1.0038714981945518, 0.4497132587689916, 'ham'),\n",
       "  Text(1.0038714771419537, -0.44971330576360763, 'spam')],\n",
       " [Text(-0.5475662717424827, 0.24529814114672266, '86.59%'),\n",
       "  Text(0.5475662602592474, -0.2452981667801496, '13.41%')])"
      ]
     },
     "execution_count": 16,
     "metadata": {},
     "output_type": "execute_result"
    },
    {
     "data": {
      "image/png": "[encoded data removed]",
      "text/plain": [
       "<Figure size 640x480 with 1 Axes>"
      ]
     },
     "metadata": {},
     "output_type": "display_data"
    }
   ],
   "source": [
    "plt.pie(y.value_counts(), labels=y.value_counts().index, autopct='%.2f%%')"
   ]
  },
  {
   "cell_type": "markdown",
   "metadata": {},
   "source": [
    "##### Install nltk"
   ]
  },
  {
   "cell_type": "code",
   "execution_count": 19,
   "metadata": {},
   "outputs": [
    {
     "name": "stdout",
     "output_type": "stream",
     "text": [
      "Defaulting to user installation because normal site-packages is not writeable\n",
      "Requirement already satisfied: nltk in c:\\programdata\\anaconda3\\lib\\site-packages (3.9.1)\n",
      "Requirement already satisfied: click in c:\\programdata\\anaconda3\\lib\\site-packages (from nltk) (8.1.7)\n",
      "Requirement already satisfied: joblib in c:\\programdata\\anaconda3\\lib\\site-packages (from nltk) (1.4.2)\n",
      "Requirement already satisfied: regex>=2021.8.3 in c:\\programdata\\anaconda3\\lib\\site-packages (from nltk) (2024.9.11)\n",
      "Requirement already satisfied: tqdm in c:\\programdata\\anaconda3\\lib\\site-packages (from nltk) (4.66.5)\n",
      "Requirement already satisfied: colorama in c:\\programdata\\anaconda3\\lib\\site-packages (from click->nltk) (0.4.6)\n",
      "Note: you may need to restart the kernel to use updated packages.\n"
     ]
    }
   ],
   "source": [
    "%pip install nltk"
   ]
  },
  {
   "cell_type": "code",
   "execution_count": 22,
   "metadata": {},
   "outputs": [
    {
     "name": "stderr",
     "output_type": "stream",
     "text": [
      "[nltk_data] Downloading package punkt to\n",
      "[nltk_data]     C:\\Users\\rajesh\\AppData\\Roaming\\nltk_data...\n",
      "[nltk_data]   Package punkt is already up-to-date!\n",
      "[nltk_data] Downloading package punkt_tab to\n",
      "[nltk_data]     C:\\Users\\rajesh\\AppData\\Roaming\\nltk_data...\n",
      "[nltk_data]   Package punkt_tab is already up-to-date!\n",
      "[nltk_data] Downloading package stopwords to\n",
      "[nltk_data]     C:\\Users\\rajesh\\AppData\\Roaming\\nltk_data...\n",
      "[nltk_data]   Package stopwords is already up-to-date!\n"
     ]
    },
    {
     "data": {
      "text/plain": [
       "True"
      ]
     },
     "execution_count": 22,
     "metadata": {},
     "output_type": "execute_result"
    }
   ],
   "source": [
    "import nltk\n",
    "nltk.download('punkt')\n",
    "nltk.download('punkt_tab')  # Tokenisation\n",
    "nltk.download('stopwords')  # collection of stopwords"
   ]
  },
  {
   "cell_type": "markdown",
   "metadata": {},
   "source": [
    "##### Text Pre-processing"
   ]
  },
  {
   "cell_type": "code",
   "execution_count": 23,
   "metadata": {},
   "outputs": [],
   "source": [
    "from nltk.tokenize import word_tokenize"
   ]
  },
  {
   "cell_type": "code",
   "execution_count": 25,
   "metadata": {},
   "outputs": [
    {
     "data": {
      "text/plain": [
       "'Hello friends! How are you? Welcome to the world of Python Programming.'"
      ]
     },
     "execution_count": 25,
     "metadata": {},
     "output_type": "execute_result"
    }
   ],
   "source": [
    "sent = 'Hello friends! How are you? Welcome to the world of Python Programming.'\n",
    "sent"
   ]
  },
  {
   "cell_type": "code",
   "execution_count": 30,
   "metadata": {},
   "outputs": [
    {
     "data": {
      "text/plain": [
       "['Hello',\n",
       " 'friends',\n",
       " '!',\n",
       " 'How',\n",
       " 'are',\n",
       " 'you',\n",
       " '?',\n",
       " 'Welcome',\n",
       " 'to',\n",
       " 'the',\n",
       " 'world',\n",
       " 'of',\n",
       " 'Python',\n",
       " 'Programming',\n",
       " '.']"
      ]
     },
     "execution_count": 30,
     "metadata": {},
     "output_type": "execute_result"
    }
   ],
   "source": [
    "tokens1 = word_tokenize(sent)\n",
    "tokens1"
   ]
  },
  {
   "cell_type": "code",
   "execution_count": 34,
   "metadata": {},
   "outputs": [
    {
     "data": {
      "text/plain": [
       "['Hello',\n",
       " 'friends',\n",
       " 'How',\n",
       " 'are',\n",
       " 'you',\n",
       " 'Welcome',\n",
       " 'to',\n",
       " 'the',\n",
       " 'world',\n",
       " 'of',\n",
       " 'Python',\n",
       " 'Programming']"
      ]
     },
     "execution_count": 34,
     "metadata": {},
     "output_type": "execute_result"
    }
   ],
   "source": [
    "tokens2 = []\n",
    "\n",
    "for word in tokens1:\n",
    "    if word.isalpha():\n",
    "        tokens2.append(word)\n",
    "tokens2"
   ]
  },
  {
   "cell_type": "code",
   "execution_count": 36,
   "metadata": {},
   "outputs": [
    {
     "data": {
      "text/plain": [
       "['Hello',\n",
       " 'friends',\n",
       " 'How',\n",
       " 'are',\n",
       " 'you',\n",
       " 'Welcome',\n",
       " 'to',\n",
       " 'the',\n",
       " 'world',\n",
       " 'of',\n",
       " 'Python',\n",
       " 'Programming']"
      ]
     },
     "execution_count": 36,
     "metadata": {},
     "output_type": "execute_result"
    }
   ],
   "source": [
    "tokens2 = [word for word in tokens1 if word.isalpha()]\n",
    "tokens2"
   ]
  },
  {
   "cell_type": "code",
   "execution_count": 40,
   "metadata": {},
   "outputs": [
    {
     "data": {
      "text/plain": [
       "['i',\n",
       " 'me',\n",
       " 'my',\n",
       " 'myself',\n",
       " 'we',\n",
       " 'our',\n",
       " 'ours',\n",
       " 'ourselves',\n",
       " 'you',\n",
       " \"you're\",\n",
       " \"you've\",\n",
       " \"you'll\",\n",
       " \"you'd\",\n",
       " 'your',\n",
       " 'yours',\n",
       " 'yourself',\n",
       " 'yourselves',\n",
       " 'he',\n",
       " 'him',\n",
       " 'his',\n",
       " 'himself',\n",
       " 'she',\n",
       " \"she's\",\n",
       " 'her',\n",
       " 'hers',\n",
       " 'herself',\n",
       " 'it',\n",
       " \"it's\",\n",
       " 'its',\n",
       " 'itself',\n",
       " 'they',\n",
       " 'them',\n",
       " 'their',\n",
       " 'theirs',\n",
       " 'themselves',\n",
       " 'what',\n",
       " 'which',\n",
       " 'who',\n",
       " 'whom',\n",
       " 'this',\n",
       " 'that',\n",
       " \"that'll\",\n",
       " 'these',\n",
       " 'those',\n",
       " 'am',\n",
       " 'is',\n",
       " 'are',\n",
       " 'was',\n",
       " 'were',\n",
       " 'be',\n",
       " 'been',\n",
       " 'being',\n",
       " 'have',\n",
       " 'has',\n",
       " 'had',\n",
       " 'having',\n",
       " 'do',\n",
       " 'does',\n",
       " 'did',\n",
       " 'doing',\n",
       " 'a',\n",
       " 'an',\n",
       " 'the',\n",
       " 'and',\n",
       " 'but',\n",
       " 'if',\n",
       " 'or',\n",
       " 'because',\n",
       " 'as',\n",
       " 'until',\n",
       " 'while',\n",
       " 'of',\n",
       " 'at',\n",
       " 'by',\n",
       " 'for',\n",
       " 'with',\n",
       " 'about',\n",
       " 'against',\n",
       " 'between',\n",
       " 'into',\n",
       " 'through',\n",
       " 'during',\n",
       " 'before',\n",
       " 'after',\n",
       " 'above',\n",
       " 'below',\n",
       " 'to',\n",
       " 'from',\n",
       " 'up',\n",
       " 'down',\n",
       " 'in',\n",
       " 'out',\n",
       " 'on',\n",
       " 'off',\n",
       " 'over',\n",
       " 'under',\n",
       " 'again',\n",
       " 'further',\n",
       " 'then',\n",
       " 'once',\n",
       " 'here',\n",
       " 'there',\n",
       " 'when',\n",
       " 'where',\n",
       " 'why',\n",
       " 'how',\n",
       " 'all',\n",
       " 'any',\n",
       " 'both',\n",
       " 'each',\n",
       " 'few',\n",
       " 'more',\n",
       " 'most',\n",
       " 'other',\n",
       " 'some',\n",
       " 'such',\n",
       " 'no',\n",
       " 'nor',\n",
       " 'not',\n",
       " 'only',\n",
       " 'own',\n",
       " 'same',\n",
       " 'so',\n",
       " 'than',\n",
       " 'too',\n",
       " 'very',\n",
       " 's',\n",
       " 't',\n",
       " 'can',\n",
       " 'will',\n",
       " 'just',\n",
       " 'don',\n",
       " \"don't\",\n",
       " 'should',\n",
       " \"should've\",\n",
       " 'now',\n",
       " 'd',\n",
       " 'll',\n",
       " 'm',\n",
       " 'o',\n",
       " 're',\n",
       " 've',\n",
       " 'y',\n",
       " 'ain',\n",
       " 'aren',\n",
       " \"aren't\",\n",
       " 'couldn',\n",
       " \"couldn't\",\n",
       " 'didn',\n",
       " \"didn't\",\n",
       " 'doesn',\n",
       " \"doesn't\",\n",
       " 'hadn',\n",
       " \"hadn't\",\n",
       " 'hasn',\n",
       " \"hasn't\",\n",
       " 'haven',\n",
       " \"haven't\",\n",
       " 'isn',\n",
       " \"isn't\",\n",
       " 'ma',\n",
       " 'mightn',\n",
       " \"mightn't\",\n",
       " 'mustn',\n",
       " \"mustn't\",\n",
       " 'needn',\n",
       " \"needn't\",\n",
       " 'shan',\n",
       " \"shan't\",\n",
       " 'shouldn',\n",
       " \"shouldn't\",\n",
       " 'wasn',\n",
       " \"wasn't\",\n",
       " 'weren',\n",
       " \"weren't\",\n",
       " 'won',\n",
       " \"won't\",\n",
       " 'wouldn',\n",
       " \"wouldn't\"]"
      ]
     },
     "execution_count": 40,
     "metadata": {},
     "output_type": "execute_result"
    }
   ],
   "source": [
    "# Remove stopwords\n",
    "from nltk.corpus import stopwords\n",
    "swords = stopwords.words('english')\n",
    "swords"
   ]
  },
  {
   "cell_type": "code",
   "execution_count": 46,
   "metadata": {},
   "outputs": [
    {
     "data": {
      "text/plain": [
       "['Hello', 'friends', 'How', 'Welcome', 'world', 'Python', 'Programming']"
      ]
     },
     "execution_count": 46,
     "metadata": {},
     "output_type": "execute_result"
    }
   ],
   "source": [
    "tokens3 = [word for word in tokens2 if word not in swords]\n",
    "tokens3"
   ]
  },
  {
   "cell_type": "code",
   "execution_count": 47,
   "metadata": {},
   "outputs": [
    {
     "data": {
      "text/plain": [
       "['hello', 'friends', 'welcome', 'world', 'python', 'programming']"
      ]
     },
     "execution_count": 47,
     "metadata": {},
     "output_type": "execute_result"
    }
   ],
   "source": [
    "tokens3 = []\n",
    "for word in tokens2:\n",
    "    if word.lower() not in swords:\n",
    "        tokens3.append(word.lower())\n",
    "tokens3"
   ]
  },
  {
   "cell_type": "code",
   "execution_count": 48,
   "metadata": {},
   "outputs": [
    {
     "data": {
      "text/plain": [
       "['hello', 'friends', 'welcome', 'world', 'python', 'programming']"
      ]
     },
     "execution_count": 48,
     "metadata": {},
     "output_type": "execute_result"
    }
   ],
   "source": [
    "tokens3 = [word.lower() for word in tokens2 if word.lower() not in swords]\n",
    "tokens3"
   ]
  },
  {
   "cell_type": "code",
   "execution_count": 49,
   "metadata": {},
   "outputs": [],
   "source": [
    "def clean_text(sent):\n",
    "    tokens1 = word_tokenize(sent)\n",
    "    tokens2 = [word for word in tokens1 if word.isalpha()]\n",
    "    tokens3 = [word.lower() for word in tokens2 if word.lower() not in swords]\n",
    "    return tokens3"
   ]
  },
  {
   "cell_type": "code",
   "execution_count": 51,
   "metadata": {},
   "outputs": [
    {
     "data": {
      "text/plain": [
       "['expected', 'completed', 'wrong', 'task']"
      ]
     },
     "execution_count": 51,
     "metadata": {},
     "output_type": "execute_result"
    }
   ],
   "source": [
    "sent1 = 'It was not expected from them. They completed the wrong task.'\n",
    "clean_text(sent1)"
   ]
  },
  {
   "cell_type": "code",
   "execution_count": 52,
   "metadata": {},
   "outputs": [
    {
     "data": {
      "text/plain": [
       "0       [go, jurong, point, crazy, available, bugis, n...\n",
       "1                          [ok, lar, joking, wif, u, oni]\n",
       "2       [free, entry, wkly, comp, win, fa, cup, final,...\n",
       "3           [u, dun, say, early, hor, u, c, already, say]\n",
       "4          [nah, think, goes, usf, lives, around, though]\n",
       "                              ...                        \n",
       "5567    [time, tried, contact, u, pound, prize, claim,...\n",
       "5568                   [ü, b, going, esplanade, fr, home]\n",
       "5569                            [pity, mood, suggestions]\n",
       "5570    [guy, bitching, acted, like, interested, buyin...\n",
       "5571                                   [rofl, true, name]\n",
       "Name: text, Length: 5572, dtype: object"
      ]
     },
     "execution_count": 52,
     "metadata": {},
     "output_type": "execute_result"
    }
   ],
   "source": [
    "x.apply(clean_text)"
   ]
  },
  {
   "cell_type": "code",
   "execution_count": 53,
   "metadata": {},
   "outputs": [
    {
     "name": "stdout",
     "output_type": "stream",
     "text": [
      "Defaulting to user installation because normal site-packages is not writeable\n",
      "Collecting wordcloud\n",
      "  Downloading wordcloud-1.9.4-cp312-cp312-win_amd64.whl.metadata (3.5 kB)\n",
      "Requirement already satisfied: numpy>=1.6.1 in c:\\programdata\\anaconda3\\lib\\site-packages (from wordcloud) (1.26.4)\n",
      "Requirement already satisfied: pillow in c:\\programdata\\anaconda3\\lib\\site-packages (from wordcloud) (10.4.0)\n",
      "Requirement already satisfied: matplotlib in c:\\programdata\\anaconda3\\lib\\site-packages (from wordcloud) (3.9.2)\n",
      "Requirement already satisfied: contourpy>=1.0.1 in c:\\programdata\\anaconda3\\lib\\site-packages (from matplotlib->wordcloud) (1.2.0)\n",
      "Requirement already satisfied: cycler>=0.10 in c:\\programdata\\anaconda3\\lib\\site-packages (from matplotlib->wordcloud) (0.11.0)\n",
      "Requirement already satisfied: fonttools>=4.22.0 in c:\\programdata\\anaconda3\\lib\\site-packages (from matplotlib->wordcloud) (4.51.0)\n",
      "Requirement already satisfied: kiwisolver>=1.3.1 in c:\\programdata\\anaconda3\\lib\\site-packages (from matplotlib->wordcloud) (1.4.4)\n",
      "Requirement already satisfied: packaging>=20.0 in c:\\programdata\\anaconda3\\lib\\site-packages (from matplotlib->wordcloud) (24.1)\n",
      "Requirement already satisfied: pyparsing>=2.3.1 in c:\\programdata\\anaconda3\\lib\\site-packages (from matplotlib->wordcloud) (3.1.2)\n",
      "Requirement already satisfied: python-dateutil>=2.7 in c:\\programdata\\anaconda3\\lib\\site-packages (from matplotlib->wordcloud) (2.9.0.post0)\n",
      "Requirement already satisfied: six>=1.5 in c:\\programdata\\anaconda3\\lib\\site-packages (from python-dateutil>=2.7->matplotlib->wordcloud) (1.16.0)\n",
      "Downloading wordcloud-1.9.4-cp312-cp312-win_amd64.whl (301 kB)\n",
      "Installing collected packages: wordcloud\n",
      "Successfully installed wordcloud-1.9.4\n",
      "Note: you may need to restart the kernel to use updated packages.\n"
     ]
    },
    {
     "name": "stderr",
     "output_type": "stream",
     "text": [
      "  WARNING: The script wordcloud_cli.exe is installed in 'C:\\Users\\rajesh\\AppData\\Roaming\\Python\\Python312\\Scripts' which is not on PATH.\n",
      "  Consider adding this directory to PATH or, if you prefer to suppress this warning, use --no-warn-script-location.\n"
     ]
    }
   ],
   "source": [
    "%pip install wordcloud"
   ]
  },
  {
   "cell_type": "code",
   "execution_count": 56,
   "metadata": {},
   "outputs": [
    {
     "data": {
      "text/plain": [
       "((747,), (4825,))"
      ]
     },
     "execution_count": 56,
     "metadata": {},
     "output_type": "execute_result"
    }
   ],
   "source": [
    "spam = x[y == 'spam']\n",
    "ham = x[y == 'ham']\n",
    "\n",
    "spam.shape, ham.shape"
   ]
  },
  {
   "cell_type": "code",
   "execution_count": 58,
   "metadata": {},
   "outputs": [],
   "source": [
    "spam_messages = ' '.join(spam)\n",
    "ham_messages = ' '.join(ham)"
   ]
  },
  {
   "cell_type": "code",
   "execution_count": 59,
   "metadata": {},
   "outputs": [],
   "source": [
    "from wordcloud import WordCloud"
   ]
  },
  {
   "cell_type": "code",
   "execution_count": 65,
   "metadata": {},
   "outputs": [],
   "source": [
    "wcloud = WordCloud(background_color='black').generate(text=spam_messages)"
   ]
  },
  {
   "cell_type": "code",
   "execution_count": 66,
   "metadata": {},
   "outputs": [
    {
     "data": {
      "text/plain": [
       "<matplotlib.image.AxesImage at 0x19bebab2600>"
      ]
     },
     "execution_count": 66,
     "metadata": {},
     "output_type": "execute_result"
    },
    {
     "data": {
      "image/png": "[encoded data removed]",
      "text/plain": [
       "<Figure size 640x480 with 1 Axes>"
      ]
     },
     "metadata": {},
     "output_type": "display_data"
    }
   ],
   "source": [
    "# plt.figure(figsize=(20, 20))\n",
    "plt.title('Wordcloud for SPAM Messages')\n",
    "plt.imshow(wcloud)"
   ]
  },
  {
   "cell_type": "code",
   "execution_count": 71,
   "metadata": {},
   "outputs": [
    {
     "data": {
      "text/plain": [
       "<matplotlib.image.AxesImage at 0x19bebc47500>"
      ]
     },
     "execution_count": 71,
     "metadata": {},
     "output_type": "execute_result"
    },
    {
     "data": {
      "image/png": "[encoded data removed]",
      "text/plain": [
       "<Figure size 640x480 with 1 Axes>"
      ]
     },
     "metadata": {},
     "output_type": "display_data"
    }
   ],
   "source": [
    "wcloud = WordCloud(background_color='black').generate(text=ham_messages)\n",
    "plt.title('Wordcloud for SPAM Messages')\n",
    "plt.imshow(wcloud)"
   ]
  },
  {
   "cell_type": "markdown",
   "metadata": {},
   "source": [
    "##### TF*IDF Vectorisation"
   ]
  },
  {
   "cell_type": "code",
   "execution_count": 67,
   "metadata": {},
   "outputs": [],
   "source": [
    "from sklearn.feature_extraction.text import TfidfVectorizer"
   ]
  },
  {
   "cell_type": "code",
   "execution_count": 68,
   "metadata": {},
   "outputs": [],
   "source": [
    "vectorizer = TfidfVectorizer(analyzer=clean_text)"
   ]
  },
  {
   "cell_type": "code",
   "execution_count": 69,
   "metadata": {},
   "outputs": [
    {
     "data": {
      "text/plain": [
       "(5572, 7217)"
      ]
     },
     "execution_count": 69,
     "metadata": {},
     "output_type": "execute_result"
    }
   ],
   "source": [
    "x_new = vectorizer.fit_transform(x)\n",
    "x_new.shape"
   ]
  },
  {
   "cell_type": "code",
   "execution_count": 74,
   "metadata": {},
   "outputs": [
    {
     "data": {
      "text/plain": [
       "array([[0., 0., 0., ..., 0., 0., 0.],\n",
       "       [0., 0., 0., ..., 0., 0., 0.],\n",
       "       [0., 0., 0., ..., 0., 0., 0.],\n",
       "       ...,\n",
       "       [0., 0., 0., ..., 0., 0., 0.],\n",
       "       [0., 0., 0., ..., 0., 0., 0.],\n",
       "       [0., 0., 0., ..., 0., 0., 0.]])"
      ]
     },
     "execution_count": 74,
     "metadata": {},
     "output_type": "execute_result"
    }
   ],
   "source": [
    "x_new.toarray()"
   ]
  },
  {
   "cell_type": "code",
   "execution_count": 75,
   "metadata": {},
   "outputs": [
    {
     "data": {
      "text/plain": [
       "array(['aa', 'aah', 'aaniye', ..., 'zyada', 'é', 'ü'], dtype=object)"
      ]
     },
     "execution_count": 75,
     "metadata": {},
     "output_type": "execute_result"
    }
   ],
   "source": [
    "vectorizer.get_feature_names_out()"
   ]
  },
  {
   "cell_type": "markdown",
   "metadata": {},
   "source": [
    "##### Cross-Validation"
   ]
  },
  {
   "cell_type": "code",
   "execution_count": 76,
   "metadata": {},
   "outputs": [],
   "source": [
    "from sklearn.model_selection import train_test_split\n",
    "x_train, x_test, y_train, y_test = train_test_split(x_new, y, random_state=0)"
   ]
  },
  {
   "cell_type": "code",
   "execution_count": 80,
   "metadata": {},
   "outputs": [
    {
     "data": {
      "text/plain": [
       "((4179, 7217), (1393, 7217), (4179,), (1393,))"
      ]
     },
     "execution_count": 80,
     "metadata": {},
     "output_type": "execute_result"
    }
   ],
   "source": [
    "x_train.shape, x_test.shape, y_train.shape, y_test.shape"
   ]
  },
  {
   "cell_type": "markdown",
   "metadata": {},
   "source": [
    "##### Build the model"
   ]
  },
  {
   "cell_type": "code",
   "execution_count": 83,
   "metadata": {},
   "outputs": [],
   "source": [
    "from sklearn.ensemble import RandomForestClassifier"
   ]
  },
  {
   "cell_type": "code",
   "execution_count": 84,
   "metadata": {},
   "outputs": [],
   "source": [
    "rforest = RandomForestClassifier(n_estimators=20, random_state=0)"
   ]
  },
  {
   "cell_type": "code",
   "execution_count": 85,
   "metadata": {},
   "outputs": [
    {
     "data": {
      "text/html": [
       "<style>#sk-container-id-1 {\n",
       "  /* Definition of color scheme common for light and dark mode */\n",
       "  --sklearn-color-text: black;\n",
       "  --sklearn-color-line: gray;\n",
       "  /* Definition of color scheme for unfitted estimators */\n",
       "  --sklearn-color-unfitted-level-0: #fff5e6;\n",
       "  --sklearn-color-unfitted-level-1: #f6e4d2;\n",
       "  --sklearn-color-unfitted-level-2: #ffe0b3;\n",
       "  --sklearn-color-unfitted-level-3: chocolate;\n",
       "  /* Definition of color scheme for fitted estimators */\n",
       "  --sklearn-color-fitted-level-0: #f0f8ff;\n",
       "  --sklearn-color-fitted-level-1: #d4ebff;\n",
       "  --sklearn-color-fitted-level-2: #b3dbfd;\n",
       "  --sklearn-color-fitted-level-3: cornflowerblue;\n",
       "\n",
       "  /* Specific color for light theme */\n",
       "  --sklearn-color-text-on-default-background: var(--sg-text-color, var(--theme-code-foreground, var(--jp-content-font-color1, black)));\n",
       "  --sklearn-color-background: var(--sg-background-color, var(--theme-background, var(--jp-layout-color0, white)));\n",
       "  --sklearn-color-border-box: var(--sg-text-color, var(--theme-code-foreground, var(--jp-content-font-color1, black)));\n",
       "  --sklearn-color-icon: #696969;\n",
       "\n",
       "  @media (prefers-color-scheme: dark) {\n",
       "    /* Redefinition of color scheme for dark theme */\n",
       "    --sklearn-color-text-on-default-background: var(--sg-text-color, var(--theme-code-foreground, var(--jp-content-font-color1, white)));\n",
       "    --sklearn-color-background: var(--sg-background-color, var(--theme-background, var(--jp-layout-color0, #111)));\n",
       "    --sklearn-color-border-box: var(--sg-text-color, var(--theme-code-foreground, var(--jp-content-font-color1, white)));\n",
       "    --sklearn-color-icon: #878787;\n",
       "  }\n",
       "}\n",
       "\n",
       "#sk-container-id-1 {\n",
       "  color: var(--sklearn-color-text);\n",
       "}\n",
       "\n",
       "#sk-container-id-1 pre {\n",
       "  padding: 0;\n",
       "}\n",
       "\n",
       "#sk-container-id-1 input.sk-hidden--visually {\n",
       "  border: 0;\n",
       "  clip: rect(1px 1px 1px 1px);\n",
       "  clip: rect(1px, 1px, 1px, 1px);\n",
       "  height: 1px;\n",
       "  margin: -1px;\n",
       "  overflow: hidden;\n",
       "  padding: 0;\n",
       "  position: absolute;\n",
       "  width: 1px;\n",
       "}\n",
       "\n",
       "#sk-container-id-1 div.sk-dashed-wrapped {\n",
       "  border: 1px dashed var(--sklearn-color-line);\n",
       "  margin: 0 0.4em 0.5em 0.4em;\n",
       "  box-sizing: border-box;\n",
       "  padding-bottom: 0.4em;\n",
       "  background-color: var(--sklearn-color-background);\n",
       "}\n",
       "\n",
       "#sk-container-id-1 div.sk-container {\n",
       "  /* jupyter's `normalize.less` sets `[hidden] { display: none; }`\n",
       "     but bootstrap.min.css set `[hidden] { display: none !important; }`\n",
       "     so we also need the `!important` here to be able to override the\n",
       "     default hidden behavior on the sphinx rendered scikit-learn.org.\n",
       "     See: https://github.com/scikit-learn/scikit-learn/issues/21755 */\n",
       "  display: inline-block !important;\n",
       "  position: relative;\n",
       "}\n",
       "\n",
       "#sk-container-id-1 div.sk-text-repr-fallback {\n",
       "  display: none;\n",
       "}\n",
       "\n",
       "div.sk-parallel-item,\n",
       "div.sk-serial,\n",
       "div.sk-item {\n",
       "  /* draw centered vertical line to link estimators */\n",
       "  background-image: linear-gradient(var(--sklearn-color-text-on-default-background), var(--sklearn-color-text-on-default-background));\n",
       "  background-size: 2px 100%;\n",
       "  background-repeat: no-repeat;\n",
       "  background-position: center center;\n",
       "}\n",
       "\n",
       "/* Parallel-specific style estimator block */\n",
       "\n",
       "#sk-container-id-1 div.sk-parallel-item::after {\n",
       "  content: \"\";\n",
       "  width: 100%;\n",
       "  border-bottom: 2px solid var(--sklearn-color-text-on-default-background);\n",
       "  flex-grow: 1;\n",
       "}\n",
       "\n",
       "#sk-container-id-1 div.sk-parallel {\n",
       "  display: flex;\n",
       "  align-items: stretch;\n",
       "  justify-content: center;\n",
       "  background-color: var(--sklearn-color-background);\n",
       "  position: relative;\n",
       "}\n",
       "\n",
       "#sk-container-id-1 div.sk-parallel-item {\n",
       "  display: flex;\n",
       "  flex-direction: column;\n",
       "}\n",
       "\n",
       "#sk-container-id-1 div.sk-parallel-item:first-child::after {\n",
       "  align-self: flex-end;\n",
       "  width: 50%;\n",
       "}\n",
       "\n",
       "#sk-container-id-1 div.sk-parallel-item:last-child::after {\n",
       "  align-self: flex-start;\n",
       "  width: 50%;\n",
       "}\n",
       "\n",
       "#sk-container-id-1 div.sk-parallel-item:only-child::after {\n",
       "  width: 0;\n",
       "}\n",
       "\n",
       "/* Serial-specific style estimator block */\n",
       "\n",
       "#sk-container-id-1 div.sk-serial {\n",
       "  display: flex;\n",
       "  flex-direction: column;\n",
       "  align-items: center;\n",
       "  background-color: var(--sklearn-color-background);\n",
       "  padding-right: 1em;\n",
       "  padding-left: 1em;\n",
       "}\n",
       "\n",
       "\n",
       "/* Toggleable style: style used for estimator/Pipeline/ColumnTransformer box that is\n",
       "clickable and can be expanded/collapsed.\n",
       "- Pipeline and ColumnTransformer use this feature and define the default style\n",
       "- Estimators will overwrite some part of the style using the `sk-estimator` class\n",
       "*/\n",
       "\n",
       "/* Pipeline and ColumnTransformer style (default) */\n",
       "\n",
       "#sk-container-id-1 div.sk-toggleable {\n",
       "  /* Default theme specific background. It is overwritten whether we have a\n",
       "  specific estimator or a Pipeline/ColumnTransformer */\n",
       "  background-color: var(--sklearn-color-background);\n",
       "}\n",
       "\n",
       "/* Toggleable label */\n",
       "#sk-container-id-1 label.sk-toggleable__label {\n",
       "  cursor: pointer;\n",
       "  display: block;\n",
       "  width: 100%;\n",
       "  margin-bottom: 0;\n",
       "  padding: 0.5em;\n",
       "  box-sizing: border-box;\n",
       "  text-align: center;\n",
       "}\n",
       "\n",
       "#sk-container-id-1 label.sk-toggleable__label-arrow:before {\n",
       "  /* Arrow on the left of the label */\n",
       "  content: \"▸\";\n",
       "  float: left;\n",
       "  margin-right: 0.25em;\n",
       "  color: var(--sklearn-color-icon);\n",
       "}\n",
       "\n",
       "#sk-container-id-1 label.sk-toggleable__label-arrow:hover:before {\n",
       "  color: var(--sklearn-color-text);\n",
       "}\n",
       "\n",
       "/* Toggleable content - dropdown */\n",
       "\n",
       "#sk-container-id-1 div.sk-toggleable__content {\n",
       "  max-height: 0;\n",
       "  max-width: 0;\n",
       "  overflow: hidden;\n",
       "  text-align: left;\n",
       "  /* unfitted */\n",
       "  background-color: var(--sklearn-color-unfitted-level-0);\n",
       "}\n",
       "\n",
       "#sk-container-id-1 div.sk-toggleable__content.fitted {\n",
       "  /* fitted */\n",
       "  background-color: var(--sklearn-color-fitted-level-0);\n",
       "}\n",
       "\n",
       "#sk-container-id-1 div.sk-toggleable__content pre {\n",
       "  margin: 0.2em;\n",
       "  border-radius: 0.25em;\n",
       "  color: var(--sklearn-color-text);\n",
       "  /* unfitted */\n",
       "  background-color: var(--sklearn-color-unfitted-level-0);\n",
       "}\n",
       "\n",
       "#sk-container-id-1 div.sk-toggleable__content.fitted pre {\n",
       "  /* unfitted */\n",
       "  background-color: var(--sklearn-color-fitted-level-0);\n",
       "}\n",
       "\n",
       "#sk-container-id-1 input.sk-toggleable__control:checked~div.sk-toggleable__content {\n",
       "  /* Expand drop-down */\n",
       "  max-height: 200px;\n",
       "  max-width: 100%;\n",
       "  overflow: auto;\n",
       "}\n",
       "\n",
       "#sk-container-id-1 input.sk-toggleable__control:checked~label.sk-toggleable__label-arrow:before {\n",
       "  content: \"▾\";\n",
       "}\n",
       "\n",
       "/* Pipeline/ColumnTransformer-specific style */\n",
       "\n",
       "#sk-container-id-1 div.sk-label input.sk-toggleable__control:checked~label.sk-toggleable__label {\n",
       "  color: var(--sklearn-color-text);\n",
       "  background-color: var(--sklearn-color-unfitted-level-2);\n",
       "}\n",
       "\n",
       "#sk-container-id-1 div.sk-label.fitted input.sk-toggleable__control:checked~label.sk-toggleable__label {\n",
       "  background-color: var(--sklearn-color-fitted-level-2);\n",
       "}\n",
       "\n",
       "/* Estimator-specific style */\n",
       "\n",
       "/* Colorize estimator box */\n",
       "#sk-container-id-1 div.sk-estimator input.sk-toggleable__control:checked~label.sk-toggleable__label {\n",
       "  /* unfitted */\n",
       "  background-color: var(--sklearn-color-unfitted-level-2);\n",
       "}\n",
       "\n",
       "#sk-container-id-1 div.sk-estimator.fitted input.sk-toggleable__control:checked~label.sk-toggleable__label {\n",
       "  /* fitted */\n",
       "  background-color: var(--sklearn-color-fitted-level-2);\n",
       "}\n",
       "\n",
       "#sk-container-id-1 div.sk-label label.sk-toggleable__label,\n",
       "#sk-container-id-1 div.sk-label label {\n",
       "  /* The background is the default theme color */\n",
       "  color: var(--sklearn-color-text-on-default-background);\n",
       "}\n",
       "\n",
       "/* On hover, darken the color of the background */\n",
       "#sk-container-id-1 div.sk-label:hover label.sk-toggleable__label {\n",
       "  color: var(--sklearn-color-text);\n",
       "  background-color: var(--sklearn-color-unfitted-level-2);\n",
       "}\n",
       "\n",
       "/* Label box, darken color on hover, fitted */\n",
       "#sk-container-id-1 div.sk-label.fitted:hover label.sk-toggleable__label.fitted {\n",
       "  color: var(--sklearn-color-text);\n",
       "  background-color: var(--sklearn-color-fitted-level-2);\n",
       "}\n",
       "\n",
       "/* Estimator label */\n",
       "\n",
       "#sk-container-id-1 div.sk-label label {\n",
       "  font-family: monospace;\n",
       "  font-weight: bold;\n",
       "  display: inline-block;\n",
       "  line-height: 1.2em;\n",
       "}\n",
       "\n",
       "#sk-container-id-1 div.sk-label-container {\n",
       "  text-align: center;\n",
       "}\n",
       "\n",
       "/* Estimator-specific */\n",
       "#sk-container-id-1 div.sk-estimator {\n",
       "  font-family: monospace;\n",
       "  border: 1px dotted var(--sklearn-color-border-box);\n",
       "  border-radius: 0.25em;\n",
       "  box-sizing: border-box;\n",
       "  margin-bottom: 0.5em;\n",
       "  /* unfitted */\n",
       "  background-color: var(--sklearn-color-unfitted-level-0);\n",
       "}\n",
       "\n",
       "#sk-container-id-1 div.sk-estimator.fitted {\n",
       "  /* fitted */\n",
       "  background-color: var(--sklearn-color-fitted-level-0);\n",
       "}\n",
       "\n",
       "/* on hover */\n",
       "#sk-container-id-1 div.sk-estimator:hover {\n",
       "  /* unfitted */\n",
       "  background-color: var(--sklearn-color-unfitted-level-2);\n",
       "}\n",
       "\n",
       "#sk-container-id-1 div.sk-estimator.fitted:hover {\n",
       "  /* fitted */\n",
       "  background-color: var(--sklearn-color-fitted-level-2);\n",
       "}\n",
       "\n",
       "/* Specification for estimator info (e.g. \"i\" and \"?\") */\n",
       "\n",
       "/* Common style for \"i\" and \"?\" */\n",
       "\n",
       ".sk-estimator-doc-link,\n",
       "a:link.sk-estimator-doc-link,\n",
       "a:visited.sk-estimator-doc-link {\n",
       "  float: right;\n",
       "  font-size: smaller;\n",
       "  line-height: 1em;\n",
       "  font-family: monospace;\n",
       "  background-color: var(--sklearn-color-background);\n",
       "  border-radius: 1em;\n",
       "  height: 1em;\n",
       "  width: 1em;\n",
       "  text-decoration: none !important;\n",
       "  margin-left: 1ex;\n",
       "  /* unfitted */\n",
       "  border: var(--sklearn-color-unfitted-level-1) 1pt solid;\n",
       "  color: var(--sklearn-color-unfitted-level-1);\n",
       "}\n",
       "\n",
       ".sk-estimator-doc-link.fitted,\n",
       "a:link.sk-estimator-doc-link.fitted,\n",
       "a:visited.sk-estimator-doc-link.fitted {\n",
       "  /* fitted */\n",
       "  border: var(--sklearn-color-fitted-level-1) 1pt solid;\n",
       "  color: var(--sklearn-color-fitted-level-1);\n",
       "}\n",
       "\n",
       "/* On hover */\n",
       "div.sk-estimator:hover .sk-estimator-doc-link:hover,\n",
       ".sk-estimator-doc-link:hover,\n",
       "div.sk-label-container:hover .sk-estimator-doc-link:hover,\n",
       ".sk-estimator-doc-link:hover {\n",
       "  /* unfitted */\n",
       "  background-color: var(--sklearn-color-unfitted-level-3);\n",
       "  color: var(--sklearn-color-background);\n",
       "  text-decoration: none;\n",
       "}\n",
       "\n",
       "div.sk-estimator.fitted:hover .sk-estimator-doc-link.fitted:hover,\n",
       ".sk-estimator-doc-link.fitted:hover,\n",
       "div.sk-label-container:hover .sk-estimator-doc-link.fitted:hover,\n",
       ".sk-estimator-doc-link.fitted:hover {\n",
       "  /* fitted */\n",
       "  background-color: var(--sklearn-color-fitted-level-3);\n",
       "  color: var(--sklearn-color-background);\n",
       "  text-decoration: none;\n",
       "}\n",
       "\n",
       "/* Span, style for the box shown on hovering the info icon */\n",
       ".sk-estimator-doc-link span {\n",
       "  display: none;\n",
       "  z-index: 9999;\n",
       "  position: relative;\n",
       "  font-weight: normal;\n",
       "  right: .2ex;\n",
       "  padding: .5ex;\n",
       "  margin: .5ex;\n",
       "  width: min-content;\n",
       "  min-width: 20ex;\n",
       "  max-width: 50ex;\n",
       "  color: var(--sklearn-color-text);\n",
       "  box-shadow: 2pt 2pt 4pt #999;\n",
       "  /* unfitted */\n",
       "  background: var(--sklearn-color-unfitted-level-0);\n",
       "  border: .5pt solid var(--sklearn-color-unfitted-level-3);\n",
       "}\n",
       "\n",
       ".sk-estimator-doc-link.fitted span {\n",
       "  /* fitted */\n",
       "  background: var(--sklearn-color-fitted-level-0);\n",
       "  border: var(--sklearn-color-fitted-level-3);\n",
       "}\n",
       "\n",
       ".sk-estimator-doc-link:hover span {\n",
       "  display: block;\n",
       "}\n",
       "\n",
       "/* \"?\"-specific style due to the `<a>` HTML tag */\n",
       "\n",
       "#sk-container-id-1 a.estimator_doc_link {\n",
       "  float: right;\n",
       "  font-size: 1rem;\n",
       "  line-height: 1em;\n",
       "  font-family: monospace;\n",
       "  background-color: var(--sklearn-color-background);\n",
       "  border-radius: 1rem;\n",
       "  height: 1rem;\n",
       "  width: 1rem;\n",
       "  text-decoration: none;\n",
       "  /* unfitted */\n",
       "  color: var(--sklearn-color-unfitted-level-1);\n",
       "  border: var(--sklearn-color-unfitted-level-1) 1pt solid;\n",
       "}\n",
       "\n",
       "#sk-container-id-1 a.estimator_doc_link.fitted {\n",
       "  /* fitted */\n",
       "  border: var(--sklearn-color-fitted-level-1) 1pt solid;\n",
       "  color: var(--sklearn-color-fitted-level-1);\n",
       "}\n",
       "\n",
       "/* On hover */\n",
       "#sk-container-id-1 a.estimator_doc_link:hover {\n",
       "  /* unfitted */\n",
       "  background-color: var(--sklearn-color-unfitted-level-3);\n",
       "  color: var(--sklearn-color-background);\n",
       "  text-decoration: none;\n",
       "}\n",
       "\n",
       "#sk-container-id-1 a.estimator_doc_link.fitted:hover {\n",
       "  /* fitted */\n",
       "  background-color: var(--sklearn-color-fitted-level-3);\n",
       "}\n",
       "</style><div id=\"sk-container-id-1\" class=\"sk-top-container\"><div class=\"sk-text-repr-fallback\"><pre>RandomForestClassifier(n_estimators=20, random_state=0)</pre><b>In a Jupyter environment, please rerun this cell to show the HTML representation or trust the notebook. <br />On GitHub, the HTML representation is unable to render, please try loading this page with nbviewer.org.</b></div><div class=\"sk-container\" hidden><div class=\"sk-item\"><div class=\"sk-estimator fitted sk-toggleable\"><input class=\"sk-toggleable__control sk-hidden--visually\" id=\"sk-estimator-id-1\" type=\"checkbox\" checked><label for=\"sk-estimator-id-1\" class=\"sk-toggleable__label fitted sk-toggleable__label-arrow fitted\">&nbsp;&nbsp;RandomForestClassifier<a class=\"sk-estimator-doc-link fitted\" rel=\"noreferrer\" target=\"_blank\" href=\"https://scikit-learn.org/1.5/modules/generated/sklearn.ensemble.RandomForestClassifier.html\">?<span>Documentation for RandomForestClassifier</span></a><span class=\"sk-estimator-doc-link fitted\">i<span>Fitted</span></span></label><div class=\"sk-toggleable__content fitted\"><pre>RandomForestClassifier(n_estimators=20, random_state=0)</pre></div> </div></div></div></div>"
      ],
      "text/plain": [
       "RandomForestClassifier(n_estimators=20, random_state=0)"
      ]
     },
     "execution_count": 85,
     "metadata": {},
     "output_type": "execute_result"
    }
   ],
   "source": [
    "rforest.fit(x_train, y_train)"
   ]
  },
  {
   "cell_type": "markdown",
   "metadata": {},
   "source": [
    "##### Performance Evaluation"
   ]
  },
  {
   "cell_type": "code",
   "execution_count": 91,
   "metadata": {},
   "outputs": [],
   "source": [
    "y_pred = rforest.predict(x_test)"
   ]
  },
  {
   "cell_type": "code",
   "execution_count": 92,
   "metadata": {},
   "outputs": [],
   "source": [
    "from sklearn.metrics import confusion_matrix\n",
    "from sklearn.metrics import classification_report, accuracy_score"
   ]
  },
  {
   "cell_type": "code",
   "execution_count": 93,
   "metadata": {},
   "outputs": [
    {
     "data": {
      "text/plain": [
       "array([[1208,    0],\n",
       "       [  33,  152]], dtype=int64)"
      ]
     },
     "execution_count": 93,
     "metadata": {},
     "output_type": "execute_result"
    }
   ],
   "source": [
    "confusion_matrix(y_test, y_pred)"
   ]
  },
  {
   "cell_type": "code",
   "execution_count": 94,
   "metadata": {},
   "outputs": [
    {
     "data": {
      "text/plain": [
       "0.9763101220387652"
      ]
     },
     "execution_count": 94,
     "metadata": {},
     "output_type": "execute_result"
    }
   ],
   "source": [
    "accuracy_score(y_test, y_pred)"
   ]
  },
  {
   "cell_type": "code",
   "execution_count": 95,
   "metadata": {},
   "outputs": [
    {
     "name": "stdout",
     "output_type": "stream",
     "text": [
      "              precision    recall  f1-score   support\n",
      "\n",
      "         ham       0.97      1.00      0.99      1208\n",
      "        spam       1.00      0.82      0.90       185\n",
      "\n",
      "    accuracy                           0.98      1393\n",
      "   macro avg       0.99      0.91      0.94      1393\n",
      "weighted avg       0.98      0.98      0.98      1393\n",
      "\n"
     ]
    }
   ],
   "source": [
    "print(classification_report(y_test, y_pred))"
   ]
  },
  {
   "cell_type": "markdown",
   "metadata": {},
   "source": [
    "##### Predict on unseen data"
   ]
  },
  {
   "cell_type": "code",
   "execution_count": 97,
   "metadata": {},
   "outputs": [],
   "source": [
    "sent1 = 'Hello friends! How are you? Welcome to the world of Python Programming.'\n",
    "sent2 = 'Hello! You won a chance to get free bonus of 2000!'"
   ]
  },
  {
   "cell_type": "code",
   "execution_count": 104,
   "metadata": {},
   "outputs": [
    {
     "data": {
      "text/plain": [
       "array(['ham', 'ham'], dtype=object)"
      ]
     },
     "execution_count": 104,
     "metadata": {},
     "output_type": "execute_result"
    }
   ],
   "source": [
    "new = vectorizer.transform([sent1, sent2])\n",
    "rforest.predict(new)"
   ]
  },
  {
   "cell_type": "code",
   "execution_count": 112,
   "metadata": {},
   "outputs": [
    {
     "data": {
      "text/html": [
       "<div>\n",
       "<style scoped>\n",
       "    .dataframe tbody tr th:only-of-type {\n",
       "        vertical-align: middle;\n",
       "    }\n",
       "\n",
       "    .dataframe tbody tr th {\n",
       "        vertical-align: top;\n",
       "    }\n",
       "\n",
       "    .dataframe thead th {\n",
       "        text-align: right;\n",
       "    }\n",
       "</style>\n",
       "<table border=\"1\" class=\"dataframe\">\n",
       "  <thead>\n",
       "    <tr style=\"text-align: right;\">\n",
       "      <th></th>\n",
       "      <th>label</th>\n",
       "    </tr>\n",
       "  </thead>\n",
       "  <tbody>\n",
       "    <tr>\n",
       "      <th>0</th>\n",
       "      <td>Ok lar i double check wif da hair dresser alre...</td>\n",
       "    </tr>\n",
       "    <tr>\n",
       "      <th>1</th>\n",
       "      <td>As a valued customer, I am pleased to advise y...</td>\n",
       "    </tr>\n",
       "    <tr>\n",
       "      <th>2</th>\n",
       "      <td>Today is \"song dedicated day..\" Which song wil...</td>\n",
       "    </tr>\n",
       "  </tbody>\n",
       "</table>\n",
       "</div>"
      ],
      "text/plain": [
       "                                               label\n",
       "0  Ok lar i double check wif da hair dresser alre...\n",
       "1  As a valued customer, I am pleased to advise y...\n",
       "2  Today is \"song dedicated day..\" Which song wil..."
      ]
     },
     "execution_count": 112,
     "metadata": {},
     "output_type": "execute_result"
    }
   ],
   "source": [
    "df = pd.read_csv('datasets/sample.csv', sep='\\r', names=['label'])\n",
    "df"
   ]
  },
  {
   "cell_type": "code",
   "execution_count": 113,
   "metadata": {},
   "outputs": [
    {
     "data": {
      "text/plain": [
       "['Ok lar i double check wif da hair dresser already he said wun cut v short. He said will cut until i look nice.,,\\n',\n",
       " 'As a valued customer, I am pleased to advise you that following recent review of your Mob No. you are awarded with a £1500 Bonus Prize, call 09066364589\\n',\n",
       " '\"Today is \"\"song dedicated day..\"\" Which song will u dedicate for me? Send this to all ur valuable frnds but first rply me...\",,\\n']"
      ]
     },
     "execution_count": 113,
     "metadata": {},
     "output_type": "execute_result"
    }
   ],
   "source": [
    "text = open('datasets/sample.csv').readlines()\n",
    "text"
   ]
  },
  {
   "cell_type": "code",
   "execution_count": 114,
   "metadata": {},
   "outputs": [
    {
     "data": {
      "text/plain": [
       "array(['ham', 'spam', 'ham'], dtype=object)"
      ]
     },
     "execution_count": 114,
     "metadata": {},
     "output_type": "execute_result"
    }
   ],
   "source": [
    "new = vectorizer.transform(text)\n",
    "rforest.predict(new)"
   ]
  },
  {
   "cell_type": "code",
   "execution_count": 115,
   "metadata": {},
   "outputs": [
    {
     "name": "stdout",
     "output_type": "stream",
     "text": [
      "Defaulting to user installation because normal site-packages is not writeable\n",
      "Requirement already satisfied: tensorflow in c:\\users\\rajesh\\appdata\\roaming\\python\\python312\\site-packages (2.18.0)\n",
      "Requirement already satisfied: keras in c:\\users\\rajesh\\appdata\\roaming\\python\\python312\\site-packages (3.7.0)\n",
      "Requirement already satisfied: tensorflow-intel==2.18.0 in c:\\users\\rajesh\\appdata\\roaming\\python\\python312\\site-packages (from tensorflow) (2.18.0)\n",
      "Requirement already satisfied: absl-py>=1.0.0 in c:\\users\\rajesh\\appdata\\roaming\\python\\python312\\site-packages (from tensorflow-intel==2.18.0->tensorflow) (2.1.0)\n",
      "Requirement already satisfied: astunparse>=1.6.0 in c:\\users\\rajesh\\appdata\\roaming\\python\\python312\\site-packages (from tensorflow-intel==2.18.0->tensorflow) (1.6.3)\n",
      "Requirement already satisfied: flatbuffers>=24.3.25 in c:\\users\\rajesh\\appdata\\roaming\\python\\python312\\site-packages (from tensorflow-intel==2.18.0->tensorflow) (24.12.23)\n",
      "Requirement already satisfied: gast!=0.5.0,!=0.5.1,!=0.5.2,>=0.2.1 in c:\\users\\rajesh\\appdata\\roaming\\python\\python312\\site-packages (from tensorflow-intel==2.18.0->tensorflow) (0.6.0)\n",
      "Requirement already satisfied: google-pasta>=0.1.1 in c:\\users\\rajesh\\appdata\\roaming\\python\\python312\\site-packages (from tensorflow-intel==2.18.0->tensorflow) (0.2.0)\n",
      "Requirement already satisfied: libclang>=13.0.0 in c:\\users\\rajesh\\appdata\\roaming\\python\\python312\\site-packages (from tensorflow-intel==2.18.0->tensorflow) (18.1.1)\n",
      "Requirement already satisfied: opt-einsum>=2.3.2 in c:\\users\\rajesh\\appdata\\roaming\\python\\python312\\site-packages (from tensorflow-intel==2.18.0->tensorflow) (3.4.0)\n",
      "Requirement already satisfied: packaging in c:\\programdata\\anaconda3\\lib\\site-packages (from tensorflow-intel==2.18.0->tensorflow) (24.1)\n",
      "Requirement already satisfied: protobuf!=4.21.0,!=4.21.1,!=4.21.2,!=4.21.3,!=4.21.4,!=4.21.5,<6.0.0dev,>=3.20.3 in c:\\programdata\\anaconda3\\lib\\site-packages (from tensorflow-intel==2.18.0->tensorflow) (4.25.3)\n",
      "Requirement already satisfied: requests<3,>=2.21.0 in c:\\programdata\\anaconda3\\lib\\site-packages (from tensorflow-intel==2.18.0->tensorflow) (2.32.3)\n",
      "Requirement already satisfied: setuptools in c:\\programdata\\anaconda3\\lib\\site-packages (from tensorflow-intel==2.18.0->tensorflow) (75.1.0)\n",
      "Requirement already satisfied: six>=1.12.0 in c:\\programdata\\anaconda3\\lib\\site-packages (from tensorflow-intel==2.18.0->tensorflow) (1.16.0)\n",
      "Requirement already satisfied: termcolor>=1.1.0 in c:\\users\\rajesh\\appdata\\roaming\\python\\python312\\site-packages (from tensorflow-intel==2.18.0->tensorflow) (2.5.0)\n",
      "Requirement already satisfied: typing-extensions>=3.6.6 in c:\\programdata\\anaconda3\\lib\\site-packages (from tensorflow-intel==2.18.0->tensorflow) (4.11.0)\n",
      "Requirement already satisfied: wrapt>=1.11.0 in c:\\programdata\\anaconda3\\lib\\site-packages (from tensorflow-intel==2.18.0->tensorflow) (1.14.1)\n",
      "Requirement already satisfied: grpcio<2.0,>=1.24.3 in c:\\users\\rajesh\\appdata\\roaming\\python\\python312\\site-packages (from tensorflow-intel==2.18.0->tensorflow) (1.69.0)\n",
      "Requirement already satisfied: tensorboard<2.19,>=2.18 in c:\\users\\rajesh\\appdata\\roaming\\python\\python312\\site-packages (from tensorflow-intel==2.18.0->tensorflow) (2.18.0)\n",
      "Requirement already satisfied: numpy<2.1.0,>=1.26.0 in c:\\programdata\\anaconda3\\lib\\site-packages (from tensorflow-intel==2.18.0->tensorflow) (1.26.4)\n",
      "Requirement already satisfied: h5py>=3.11.0 in c:\\programdata\\anaconda3\\lib\\site-packages (from tensorflow-intel==2.18.0->tensorflow) (3.11.0)\n",
      "Requirement already satisfied: ml-dtypes<0.5.0,>=0.4.0 in c:\\users\\rajesh\\appdata\\roaming\\python\\python312\\site-packages (from tensorflow-intel==2.18.0->tensorflow) (0.4.1)\n",
      "Requirement already satisfied: rich in c:\\programdata\\anaconda3\\lib\\site-packages (from keras) (13.7.1)\n",
      "Requirement already satisfied: namex in c:\\users\\rajesh\\appdata\\roaming\\python\\python312\\site-packages (from keras) (0.0.8)\n",
      "Requirement already satisfied: optree in c:\\users\\rajesh\\appdata\\roaming\\python\\python312\\site-packages (from keras) (0.13.1)\n",
      "Requirement already satisfied: markdown-it-py>=2.2.0 in c:\\programdata\\anaconda3\\lib\\site-packages (from rich->keras) (2.2.0)\n",
      "Requirement already satisfied: pygments<3.0.0,>=2.13.0 in c:\\programdata\\anaconda3\\lib\\site-packages (from rich->keras) (2.15.1)\n",
      "Requirement already satisfied: wheel<1.0,>=0.23.0 in c:\\programdata\\anaconda3\\lib\\site-packages (from astunparse>=1.6.0->tensorflow-intel==2.18.0->tensorflow) (0.44.0)\n",
      "Requirement already satisfied: mdurl~=0.1 in c:\\programdata\\anaconda3\\lib\\site-packages (from markdown-it-py>=2.2.0->rich->keras) (0.1.0)\n",
      "Requirement already satisfied: charset-normalizer<4,>=2 in c:\\programdata\\anaconda3\\lib\\site-packages (from requests<3,>=2.21.0->tensorflow-intel==2.18.0->tensorflow) (3.3.2)\n",
      "Requirement already satisfied: idna<4,>=2.5 in c:\\programdata\\anaconda3\\lib\\site-packages (from requests<3,>=2.21.0->tensorflow-intel==2.18.0->tensorflow) (3.7)\n",
      "Requirement already satisfied: urllib3<3,>=1.21.1 in c:\\programdata\\anaconda3\\lib\\site-packages (from requests<3,>=2.21.0->tensorflow-intel==2.18.0->tensorflow) (2.2.3)\n",
      "Requirement already satisfied: certifi>=2017.4.17 in c:\\programdata\\anaconda3\\lib\\site-packages (from requests<3,>=2.21.0->tensorflow-intel==2.18.0->tensorflow) (2024.12.14)\n",
      "Requirement already satisfied: markdown>=2.6.8 in c:\\programdata\\anaconda3\\lib\\site-packages (from tensorboard<2.19,>=2.18->tensorflow-intel==2.18.0->tensorflow) (3.4.1)\n",
      "Requirement already satisfied: tensorboard-data-server<0.8.0,>=0.7.0 in c:\\users\\rajesh\\appdata\\roaming\\python\\python312\\site-packages (from tensorboard<2.19,>=2.18->tensorflow-intel==2.18.0->tensorflow) (0.7.2)\n",
      "Requirement already satisfied: werkzeug>=1.0.1 in c:\\programdata\\anaconda3\\lib\\site-packages (from tensorboard<2.19,>=2.18->tensorflow-intel==2.18.0->tensorflow) (3.0.3)\n",
      "Requirement already satisfied: MarkupSafe>=2.1.1 in c:\\programdata\\anaconda3\\lib\\site-packages (from werkzeug>=1.0.1->tensorboard<2.19,>=2.18->tensorflow-intel==2.18.0->tensorflow) (2.1.3)\n",
      "Note: you may need to restart the kernel to use updated packages.\n"
     ]
    }
   ],
   "source": [
    "%pip install tensorflow keras"
   ]
  },
  {
   "cell_type": "code",
   "execution_count": 116,
   "metadata": {},
   "outputs": [
    {
     "name": "stdout",
     "output_type": "stream",
     "text": [
      "^C\n",
      "Note: you may need to restart the kernel to use updated packages.\n"
     ]
    }
   ],
   "source": [
    "%"
   ]
  },
  {
   "cell_type": "code",
   "execution_count": null,
   "metadata": {},
   "outputs": [],
   "source": []
  }
 ],
 "metadata": {
  "kernelspec": {
   "display_name": "base",
   "language": "python",
   "name": "python3"
  },
  "language_info": {
   "codemirror_mode": {
    "name": "ipython",
    "version": 3
   },
   "file_extension": ".py",
   "mimetype": "text/x-python",
   "name": "python",
   "nbconvert_exporter": "python",
   "pygments_lexer": "ipython3",
   "version": "3.12.7"
  }
 },
 "nbformat": 4,
 "nbformat_minor": 2
}
